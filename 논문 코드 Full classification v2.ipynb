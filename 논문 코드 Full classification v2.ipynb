{
 "cells": [
  {
   "cell_type": "code",
   "execution_count": 1,
   "metadata": {},
   "outputs": [
    {
     "data": {
      "text/plain": [
       "Text(0, 0.5, 'Cycle life')"
      ]
     },
     "execution_count": 1,
     "metadata": {},
     "output_type": "execute_result"
    },
    {
     "data": {
      "image/png": "[encoded data removed]",
      "text/plain": [
       "<Figure size 504x576 with 1 Axes>"
      ]
     },
     "metadata": {
      "needs_background": "light"
     },
     "output_type": "display_data"
    }
   ],
   "source": [
    "import h5py\n",
    "import scipy.io\n",
    "import matplotlib.pyplot as plt\n",
    "import numpy as np\n",
    "import pickle\n",
    "import pandas as pd\n",
    "import matplotlib.cm as cm\n",
    "from scipy.signal import savgol_filter\n",
    "from scipy import stats\n",
    "\n",
    "batch1 = pickle.load(open(r'D:\\논문 준비\\코드 복사\\코드 복사\\코드 복사\\batch1.pkl', 'rb'))\n",
    "#remove batteries that do not reach 80% capacity\n",
    "del batch1['b1c8']\n",
    "del batch1['b1c10']\n",
    "del batch1['b1c12']\n",
    "del batch1['b1c13']\n",
    "del batch1['b1c22']\n",
    "\n",
    "numBat1 = len(batch1.keys())\n",
    "\n",
    "batch2 = pickle.load(open(r'D:\\논문 준비\\코드 복사\\코드 복사\\코드 복사\\batch2.pkl','rb'))\n",
    "# There are four cells from batch1 that carried into batch2, we'll remove the data from batch2\n",
    "# and put it with the correct cell from batch1\n",
    "batch2_keys = ['b2c7', 'b2c8', 'b2c9', 'b2c15', 'b2c16']\n",
    "batch1_keys = ['b1c0', 'b1c1', 'b1c2', 'b1c3', 'b1c4']\n",
    "add_len = [662, 981, 1060, 208, 482];\n",
    "\n",
    "for i, bk in enumerate(batch1_keys):\n",
    "    batch1[bk]['cycle_life'] = batch1[bk]['cycle_life'] + add_len[i]\n",
    "    for j in batch1[bk]['summary'].keys():\n",
    "        if j == 'cycle':\n",
    "            batch1[bk]['summary'][j] = np.hstack((batch1[bk]['summary'][j], batch2[batch2_keys[i]]['summary'][j] + len(batch1[bk]['summary'][j])))\n",
    "        else:\n",
    "            batch1[bk]['summary'][j] = np.hstack((batch1[bk]['summary'][j], batch2[batch2_keys[i]]['summary'][j]))\n",
    "    last_cycle = len(batch1[bk]['cycles'].keys())\n",
    "    for j, jk in enumerate(batch2[batch2_keys[i]]['cycles'].keys()):\n",
    "        batch1[bk]['cycles'][str(last_cycle + j)] = batch2[batch2_keys[i]]['cycles'][jk]\n",
    "\n",
    "del batch2['b2c7']\n",
    "del batch2['b2c8']\n",
    "del batch2['b2c9']\n",
    "del batch2['b2c15']\n",
    "del batch2['b2c16']\n",
    "\n",
    "numBat2 = len(batch2.keys())\n",
    "\n",
    "batch3 = pickle.load(open(r'D:\\논문 준비\\코드 복사\\코드 복사\\코드 복사\\batch3.pkl','rb'))\n",
    "# remove noisy channels from batch3\n",
    "del batch3['b3c37']\n",
    "del batch3['b3c2']\n",
    "del batch3['b3c23']\n",
    "del batch3['b3c32']\n",
    "del batch3['b3c38']\n",
    "del batch3['b3c39']\n",
    "\n",
    "numBat3 = len(batch3.keys())\n",
    "numBat = numBat1 + numBat2 + numBat3\n",
    "bat_dict = {**batch1, **batch2, **batch3}\n",
    "\n",
    "X=[]\n",
    "Y=[]\n",
    "\n",
    "for i,j in enumerate(bat_dict.keys()):\n",
    "    if j=='b2c1':\n",
    "        continue\n",
    "    if j=='b3c16':\n",
    "        continue\n",
    "    if j=='b3c17':\n",
    "        continue\n",
    "    if j=='b3c42':\n",
    "        continue\n",
    "    if j=='b3c43':\n",
    "        continue\n",
    "    Qdlin10,Qdlin100=bat_dict[j]['cycles']['9']['Qdlin'],bat_dict[j]['cycles']['99']['Qdlin']\n",
    "    diff=diff=Qdlin100-Qdlin10\n",
    "    var,cycle=np.var(diff),bat_dict[j]['cycle_life'].tolist()\n",
    "    X.append(var)\n",
    "    Y.append(cycle[0][0])\n",
    "    \n",
    "plt.figure(figsize=(7,8))\n",
    "plt.scatter(X,Y,color='black')\n",
    "plt.xscale('log')\n",
    "plt.yscale('log')\n",
    "plt.axis([10**(-6),10**(-2),100,2300])\n",
    "plt.xlabel('Var(△Q100-Q10(V))')\n",
    "plt.ylabel('Cycle life')"
   ]
  },
  {
   "cell_type": "code",
   "execution_count": 2,
   "metadata": {},
   "outputs": [],
   "source": [
    "test_ind = np.hstack((np.arange(0,(numBat1+numBat2),2),83))\n",
    "train_ind = np.arange(1,(numBat1+numBat2-1),2)\n",
    "secondary_test_ind = np.arange(numBat-numBat3,numBat);"
   ]
  },
  {
   "cell_type": "code",
   "execution_count": 3,
   "metadata": {},
   "outputs": [],
   "source": [
    "np.random.seed(42)\n",
    "threshold = 550"
   ]
  },
  {
   "cell_type": "code",
   "execution_count": 70,
   "metadata": {},
   "outputs": [],
   "source": [
    "imax=50\n",
    "jmax=50\n",
    "\n",
    "def i_j_make():\n",
    "    i_=[]\n",
    "    j_=[]\n",
    "    for i in range(2,imax+1): # \n",
    "        for j in range(1,jmax+1): # j\n",
    "            if i<=j:\n",
    "                continue\n",
    "            i_.append(i)\n",
    "            j_.append(j)\n",
    "    return i_,j_"
   ]
  },
  {
   "cell_type": "code",
   "execution_count": 71,
   "metadata": {},
   "outputs": [],
   "source": [
    "i_, j_ =i_j_make()"
   ]
  },
  {
   "cell_type": "code",
   "execution_count": 72,
   "metadata": {},
   "outputs": [],
   "source": [
    "test_data=[]\n",
    "train_data=[]\n",
    "\n",
    "test_label=[]\n",
    "train_label=[]\n",
    "\n",
    "sec_data=[]\n",
    "sec_label=[]\n",
    "for i,j in enumerate(bat_dict.keys()):\n",
    "    if j=='b2c1':\n",
    "        continue\n",
    "    if j=='b3c16':\n",
    "        continue\n",
    "    if j=='b3c17':\n",
    "        continue\n",
    "    if j=='b3c42':\n",
    "        continue\n",
    "    if j=='b3c43':\n",
    "        continue\n",
    "    if i in test_ind :\n",
    "        test_data.append(j)\n",
    "        cycle_test=bat_dict[j]['cycle_life'].tolist()\n",
    "        if cycle_test[0][0]>=threshold:\n",
    "            test_label.append(1)\n",
    "        else:\n",
    "            test_label.append(0)\n",
    "        \n",
    "    if i in train_ind :\n",
    "        train_data.append(j)\n",
    "        cycle_train=bat_dict[j]['cycle_life'].tolist()\n",
    "        if cycle_train[0][0]>=threshold:\n",
    "            train_label.append(1)\n",
    "        else:\n",
    "            train_label.append(0)\n",
    "            \n",
    "            \n",
    "    if i in secondary_test_ind:\n",
    "        sec_data.append(j)\n",
    "        cycle_sec=bat_dict[j]['cycle_life'].tolist()\n",
    "        if cycle_sec[0][0]>=threshold:\n",
    "            sec_label.append(1)\n",
    "        else:\n",
    "            sec_label.append(0)"
   ]
  },
  {
   "cell_type": "code",
   "execution_count": 73,
   "metadata": {},
   "outputs": [],
   "source": [
    "test_data=np.array(test_data)\n",
    "train_data=np.array(train_data)\n",
    "test_label=np.array(test_label)\n",
    "train_label=np.array(train_label)\n",
    "sec_label=np.array(sec_label)\n",
    "sec_data=np.array(sec_data)"
   ]
  },
  {
   "cell_type": "code",
   "execution_count": 79,
   "metadata": {},
   "outputs": [],
   "source": [
    "from sklearn.linear_model import LogisticRegressionCV\n",
    "from sklearn.model_selection import cross_val_predict\n",
    "from sklearn.metrics import roc_auc_score\n",
    "from sklearn.metrics import confusion_matrix\n",
    "from sklearn.preprocessing import StandardScaler\n",
    "from sklearn.metrics import accuracy_score\n",
    "def logistic_auc(Train_data_standard, train_label,Test_data_standard, test_label, Sec_data_standard, sec_label,\n",
    "                 random_trainX,random_trainY, random_testX, random_testY): \n",
    "    #학습은 train data 로 진행 하고 predict는 랜덤 데이터 얻기\n",
    "    \n",
    "    Log_reg = LogisticRegressionCV(cv=4,penalty='l1',solver='liblinear')\n",
    "    Log_reg.fit(Train_data_standard,train_label)\n",
    "\n",
    "    AUC_train=roc_auc_score(random_trainY, Log_reg.decision_function(random_trainX))\n",
    "    AUC_test=roc_auc_score(random_testY, Log_reg.decision_function(random_testX))\n",
    "    \n",
    "    coef_info=Log_reg.coef_\n",
    "    \n",
    "    pred_train=Log_reg.predict(random_trainX)\n",
    "    at=accuracy_score(random_trainY,pred_train)\n",
    "    pred_test=Log_reg.predict(random_testX)\n",
    "    apt=accuracy_score(random_testY,pred_test)\n",
    "    pred_sec=Log_reg.predict(Sec_data_standard)\n",
    "    ast=accuracy_score(sec_label,pred_sec)\n",
    "    \n",
    "    conf_train=confusion_matrix(train_label,pred_train)\n",
    "    conf_test=confusion_matrix(test_label,pred_test)\n",
    "    conf_sec=confusion_matrix(sec_label,pred_sec)\n",
    "    \n",
    "    return AUC_train, AUC_test,coef_info,conf_train,conf_test,conf_sec, at , apt, ast"
   ]
  },
  {
   "cell_type": "code",
   "execution_count": 91,
   "metadata": {
    "scrolled": false
   },
   "outputs": [
    {
     "name": "stdout",
     "output_type": "stream",
     "text": [
      "i=5,j=4   AUC_train=  1.0\n",
      "i=5,j=4   AUC_test=  0.8287037037037036\n",
      "coef_info= [[ 0.          0.         -0.19008894  0.          0.          0.\n",
      "   0.          0.          0.          0.          0.          0.01819522\n",
      "   0.          0.1494066  -2.24601371 -0.21280982  0.          0.        ]]\n",
      "\n",
      "\n",
      "acc_train= 1.0\n",
      "acc_test= 0.8809523809523808\n",
      "acc_sec= 0.9722222222222221\n",
      "\n",
      "\n"
     ]
    }
   ],
   "source": [
    "mx_train=np.zeros((jmax+1,imax+1))\n",
    "mx_test=np.zeros((jmax+1,imax+1))\n",
    "mx_acc_at=np.zeros((jmax+1,imax+1))\n",
    "mx_acc_apt=np.zeros((jmax+1,imax+1))\n",
    "mx_acc_ast=np.zeros((jmax+1,imax+1))\n",
    "from sklearn.linear_model import LinearRegression\n",
    "from scipy import integrate\n",
    "from scipy.stats import skew\n",
    "from scipy.stats import kurtosis\n",
    "def Averagetime(i,k):\n",
    "    if i < 5:\n",
    "        sumtime=0\n",
    "        for j in range(i):\n",
    "            time=bat_dict[k]['summary']['chargetime'][j+1]\n",
    "            sumtime+=time\n",
    "        ACT=sumtime/i\n",
    "    else:\n",
    "        t1=bat_dict[k]['summary']['chargetime'][1]\n",
    "        t2=bat_dict[k]['summary']['chargetime'][2]\n",
    "        t3=bat_dict[k]['summary']['chargetime'][3]\n",
    "        t4=bat_dict[k]['summary']['chargetime'][4]\n",
    "        t5=bat_dict[k]['summary']['chargetime'][5]\n",
    "        ACT=(t1+t2+t3+t4+t5)/5\n",
    "    return ACT\n",
    "\n",
    "def searchmaxQ_cycle2(k):\n",
    "    x=bat_dict[k]['summary']['QD']\n",
    "    cycle2=bat_dict[k]['summary']['QD'][2]\n",
    "    while True:\n",
    "        if np.max(x)>1.2:\n",
    "            delete=np.where(np.max(x)==x)[0][0]\n",
    "            x=np.delete(x, delete)\n",
    "        if np.max(x)<=1.2:\n",
    "            break\n",
    "    return np.max(x)-cycle2\n",
    "    \n",
    "for i,j in zip(i_,j_):\n",
    "    if i==5 and j==4:\n",
    "        # 1. min\n",
    "        min_=np.array([])\n",
    "        min_test_=np.array([])\n",
    "        min_sec_=np.array([])\n",
    "        for k in train_data:\n",
    "            diff=bat_dict[k]['cycles']['{}'.format(i)]['Qdlin']- bat_dict[k]['cycles']['{}'.format(j)]['Qdlin']\n",
    "            min_=np.hstack([min_,np.min(diff)])\n",
    "        for k in test_data:\n",
    "            diff=bat_dict[k]['cycles']['{}'.format(i)]['Qdlin']- bat_dict[k]['cycles']['{}'.format(j)]['Qdlin']\n",
    "            min_test_=np.hstack([min_test_,np.min(diff)])\n",
    "        for k in sec_data:\n",
    "            diff=bat_dict[k]['cycles']['{}'.format(i)]['Qdlin']- bat_dict[k]['cycles']['{}'.format(j)]['Qdlin']\n",
    "            min_sec_=np.hstack([min_sec_,np.min(diff)])\n",
    "\n",
    "        # 2. mean\n",
    "        mean_=np.array([])\n",
    "        mean_test_=np.array([])\n",
    "        mean_sec_=np.array([])\n",
    "        for k in train_data:\n",
    "            diff=bat_dict[k]['cycles']['{}'.format(i)]['Qdlin']- bat_dict[k]['cycles']['{}'.format(j)]['Qdlin']\n",
    "            mean_=np.hstack([mean_,np.mean(diff)])\n",
    "        for k in test_data:\n",
    "            diff=bat_dict[k]['cycles']['{}'.format(i)]['Qdlin']- bat_dict[k]['cycles']['{}'.format(j)]['Qdlin']\n",
    "            mean_test_=np.hstack([mean_test_,np.mean(diff)])\n",
    "        for k in sec_data:\n",
    "            diff=bat_dict[k]['cycles']['{}'.format(i)]['Qdlin']- bat_dict[k]['cycles']['{}'.format(j)]['Qdlin']\n",
    "            mean_sec_=np.hstack([mean_sec_,np.mean(diff)])       \n",
    "\n",
    "        # 3. var\n",
    "        var_=np.array([])\n",
    "        var_test_=np.array([])\n",
    "        var_sec_=np.array([])\n",
    "        for k in train_data:\n",
    "            diff=bat_dict[k]['cycles']['{}'.format(i)]['Qdlin']- bat_dict[k]['cycles']['{}'.format(j)]['Qdlin']\n",
    "            var_=np.hstack([var_,np.var(diff)])\n",
    "        for k in test_data:\n",
    "            diff=bat_dict[k]['cycles']['{}'.format(i)]['Qdlin']- bat_dict[k]['cycles']['{}'.format(j)]['Qdlin']\n",
    "            var_test_=np.hstack([var_test_,np.var(diff)])\n",
    "        for k in sec_data:\n",
    "            diff=bat_dict[k]['cycles']['{}'.format(i)]['Qdlin']- bat_dict[k]['cycles']['{}'.format(j)]['Qdlin']\n",
    "            var_sec_=np.hstack([var_sec_,np.var(diff)])\n",
    "\n",
    "        # 4. Skewness\n",
    "        skew_=np.array([])\n",
    "        skew_test_=np.array([])\n",
    "        skew_sec_=np.array([])\n",
    "        for k in train_data:\n",
    "            diff=bat_dict[k]['cycles']['{}'.format(i)]['Qdlin']- bat_dict[k]['cycles']['{}'.format(j)]['Qdlin']\n",
    "            skew_=np.hstack([skew_,skew(diff)])\n",
    "        for k in test_data:\n",
    "            diff=bat_dict[k]['cycles']['{}'.format(i)]['Qdlin']- bat_dict[k]['cycles']['{}'.format(j)]['Qdlin']\n",
    "            skew_test_=np.hstack([skew_test_,skew(diff)])\n",
    "        for k in sec_data:\n",
    "            diff=bat_dict[k]['cycles']['{}'.format(i)]['Qdlin']- bat_dict[k]['cycles']['{}'.format(j)]['Qdlin']\n",
    "            skew_sec_=np.hstack([skew_sec_,skew(diff)])\n",
    "\n",
    "        # 5. Kurtosis\n",
    "        kurt_=np.array([])\n",
    "        kurt_test_=np.array([])\n",
    "        kurt_sec_=np.array([])\n",
    "        for k in train_data:\n",
    "            diff=bat_dict[k]['cycles']['{}'.format(i)]['Qdlin']- bat_dict[k]['cycles']['{}'.format(j)]['Qdlin']\n",
    "            kurt_=np.hstack([kurt_,kurtosis(diff,fisher=True)])\n",
    "        for k in test_data:\n",
    "            diff=bat_dict[k]['cycles']['{}'.format(i)]['Qdlin']- bat_dict[k]['cycles']['{}'.format(j)]['Qdlin']\n",
    "            kurt_test_=np.hstack([kurt_test_,kurtosis(diff,fisher=True)])\n",
    "        for k in sec_data:\n",
    "            diff=bat_dict[k]['cycles']['{}'.format(i)]['Qdlin']- bat_dict[k]['cycles']['{}'.format(j)]['Qdlin']\n",
    "            kurt_sec_=np.hstack([kurt_sec_,kurtosis(diff,fisher=True)])\n",
    "\n",
    "        # 6. Value at 2V\n",
    "        Value2V_=np.array([])\n",
    "        Value2V_test_=np.array([])\n",
    "        Value2V_sec_=np.array([])\n",
    "        for k in train_data:\n",
    "            diff=bat_dict[k]['cycles']['{}'.format(i)]['Qdlin']- bat_dict[k]['cycles']['{}'.format(j)]['Qdlin']\n",
    "            Value2V_=np.hstack([Value2V_,diff[-1]])\n",
    "        for k in test_data:\n",
    "            diff=bat_dict[k]['cycles']['{}'.format(i)]['Qdlin']- bat_dict[k]['cycles']['{}'.format(j)]['Qdlin']\n",
    "            Value2V_test_=np.hstack([Value2V_test_,diff[-1]])\n",
    "        for k in sec_data:\n",
    "            diff=bat_dict[k]['cycles']['{}'.format(i)]['Qdlin']- bat_dict[k]['cycles']['{}'.format(j)]['Qdlin']\n",
    "            Value2V_sec_=np.hstack([Value2V_sec_,diff[-1]])\n",
    "\n",
    "\n",
    "        # 7. j to i slope, 8. intercept\n",
    "        slope_=np.array([])\n",
    "        slope_test_=np.array([])\n",
    "        slope_sec_=np.array([])\n",
    "\n",
    "        intercept_=np.array([])\n",
    "        intercept_test_=np.array([])\n",
    "        intercept_sec_=np.array([])\n",
    "\n",
    "        Train=np.array(range(j,i+1)).reshape(-1,1)\n",
    "        for k in train_data:\n",
    "            QD_data=bat_dict[k]['summary']['QD'][j:i+1]\n",
    "            label=np.array(QD_data).ravel()\n",
    "\n",
    "            reg = LinearRegression()\n",
    "            reg.fit(Train,label)\n",
    "\n",
    "            slope_=np.hstack([slope_,reg.coef_])\n",
    "            intercept_=np.hstack([intercept_,reg.intercept_])\n",
    "\n",
    "        for k in test_data:\n",
    "            QD_data=bat_dict[k]['summary']['QD'][j:i+1]\n",
    "            label=np.array(QD_data).ravel()\n",
    "\n",
    "            reg = LinearRegression()\n",
    "            reg.fit(Train,label)\n",
    "\n",
    "            slope_test_=np.hstack([slope_test_,reg.coef_])\n",
    "            intercept_test_=np.hstack([intercept_test_,reg.intercept_])\n",
    "        for k in sec_data:\n",
    "            QD_data=bat_dict[k]['summary']['QD'][j:i+1]\n",
    "            label=np.array(QD_data).ravel()\n",
    "\n",
    "            reg = LinearRegression()\n",
    "            reg.fit(Train,label)\n",
    "\n",
    "            slope_sec_=np.hstack([slope_sec_,reg.coef_])\n",
    "            intercept_sec_=np.hstack([intercept_sec_,reg.intercept_])\n",
    "\n",
    "        # 9. Discharge Capacity, Cycle2\n",
    "        cycle2_=np.array([])\n",
    "        cycle2_test_=np.array([])\n",
    "        cycle2_sec_=np.array([])\n",
    "        for k in train_data:\n",
    "            Cycle2=bat_dict[k]['summary']['QD'][2]\n",
    "            cycle2_=np.hstack([cycle2_,Cycle2])\n",
    "        for k in test_data:\n",
    "            Cycle2=bat_dict[k]['summary']['QD'][2]\n",
    "            cycle2_test_=np.hstack([cycle2_test_,Cycle2])\n",
    "        for k in sec_data:\n",
    "            Cycle2=bat_dict[k]['summary']['QD'][2]\n",
    "            cycle2_sec_=np.hstack([cycle2_sec_,Cycle2])\n",
    "\n",
    "        # 10. Difference between max discharge capacity and cycle 2\n",
    "        cyclemax_2_=np.array([])\n",
    "        cyclemax_2_test_=np.array([])\n",
    "        cyclemax_2_sec_=np.array([])\n",
    "        for k in train_data:\n",
    "            cyclemax_2=searchmaxQ_cycle2(k)\n",
    "            cyclemax_2_=np.hstack([cyclemax_2_,cyclemax_2])\n",
    "        for k in test_data:\n",
    "            cyclemax_2=searchmaxQ_cycle2(k)\n",
    "            cyclemax_2_test_=np.hstack([cyclemax_2_test_,cyclemax_2])\n",
    "        for k in sec_data:\n",
    "            cyclemax_2=searchmaxQ_cycle2(k)\n",
    "            cyclemax_2_sec_=np.hstack([cyclemax_2_sec_,cyclemax_2])\n",
    "\n",
    "        # 11. Discharge capacity, cycle i (cycle i에 따른 값변경)\n",
    "        cycle_i_=np.array([])\n",
    "        cycle_i_test_=np.array([])\n",
    "        cycle_i_sec_=np.array([])\n",
    "        for k in train_data:\n",
    "            Cycle100=bat_dict[k]['summary']['QD'][i]\n",
    "            cycle_i_=np.hstack([cycle_i_,Cycle100])\n",
    "        for k in test_data:\n",
    "            Cycle100=bat_dict[k]['summary']['QD'][i]\n",
    "            cycle_i_test_=np.hstack([cycle_i_test_,Cycle100])\n",
    "        for k in sec_data:\n",
    "            Cycle100=bat_dict[k]['summary']['QD'][i]\n",
    "            cycle_i_sec_=np.hstack([cycle_i_sec_,Cycle100])        \n",
    "\n",
    "        # 12. Average charge time, first 5 cycles -> 5 cycle이 안되는 data는 최대 cycle\n",
    "        Average_=np.array([])\n",
    "        Average_test_=np.array([])\n",
    "        Average_sec_=np.array([])\n",
    "\n",
    "        for k in train_data:\n",
    "            Average_time=Averagetime(i,k)\n",
    "            Average_=np.hstack([Average_,Average_time])\n",
    "        for k in test_data:\n",
    "            Average_time=Averagetime(i,k)\n",
    "            Average_test_=np.hstack([Average_test_,Average_time])\n",
    "        for k in sec_data:\n",
    "            Average_time=Averagetime(i,k)\n",
    "            Average_sec_=np.hstack([Average_sec_,Average_time])\n",
    "\n",
    "        # 13. Maximum temperature, cycles 2 to i \n",
    "        Max_cycleT_=np.array([])\n",
    "        Max_cycleT_test_=np.array([])\n",
    "        Max_cycleT_sec_=np.array([])\n",
    "        for k in train_data:\n",
    "            maxt=[]\n",
    "            for k_ in range(2,i+1):\n",
    "                c=np.max(bat_dict[k]['cycles']['{}'.format(k_)]['T'])\n",
    "                maxt.append(c)  \n",
    "            max_cycle_T=np.max(maxt)\n",
    "            Max_cycleT_=np.hstack([Max_cycleT_,max_cycle_T])\n",
    "        for k in test_data:\n",
    "            maxt=[]\n",
    "            for k_ in range(2,i+1):\n",
    "                c=np.max(bat_dict[k]['cycles']['{}'.format(k_)]['T'])\n",
    "                maxt.append(c)  \n",
    "            max_cycle_T=np.max(maxt)\n",
    "            Max_cycleT_test_=np.hstack([Max_cycleT_test_,max_cycle_T])\n",
    "        for k in sec_data:\n",
    "            maxt=[]\n",
    "            for k_ in range(2,i+1):\n",
    "                c=np.max(bat_dict[k]['cycles']['{}'.format(k_)]['T'])\n",
    "                maxt.append(c)  \n",
    "            max_cycle_T=np.max(maxt)\n",
    "            Max_cycleT_sec_=np.hstack([Max_cycleT_sec_,max_cycle_T])   \n",
    "\n",
    "\n",
    "        # 14. Minimum temperature, cycles 2 to 100 \n",
    "        Min_cycleT_=np.array([])\n",
    "        Min_cycleT_test_=np.array([])\n",
    "        Min_cycleT_sec_=np.array([])\n",
    "        for k in train_data:\n",
    "            mint=[]\n",
    "            for k_ in range(2,i+1):\n",
    "                c=np.min(bat_dict[k]['cycles']['{}'.format(k_)]['T'])\n",
    "                mint.append(c)  \n",
    "            min_cycle_T=np.min(mint)\n",
    "            Min_cycleT_=np.hstack([Min_cycleT_,min_cycle_T])\n",
    "        for k in test_data:\n",
    "            mint=[]\n",
    "            for k_ in range(2,i+1):\n",
    "                c=np.min(bat_dict[k]['cycles']['{}'.format(k_)]['T'])\n",
    "                mint.append(c)  \n",
    "            min_cycle_T=np.min(mint)\n",
    "            Min_cycleT_test_=np.hstack([Min_cycleT_test_,min_cycle_T])\n",
    "        for k in sec_data:\n",
    "            mint=[]\n",
    "            for k_ in range(2,i+1):\n",
    "                c=np.min(bat_dict[k]['cycles']['{}'.format(k_)]['T'])\n",
    "                mint.append(c)  \n",
    "            min_cycle_T=np.min(mint)\n",
    "            Min_cycleT_sec_=np.hstack([Min_cycleT_sec_,min_cycle_T])  \n",
    "\n",
    "        #15. Integral of temperature over time, cycles 2 to i\n",
    "        integralT_=np.array([])\n",
    "        integralT_test_=np.array([])\n",
    "        integralT_sec_=np.array([])\n",
    "\n",
    "        for k in train_data:\n",
    "            integral=[]\n",
    "            for k_ in range(2,i+1):\n",
    "                y=bat_dict[k]['cycles']['{}'.format(k_)]['T'].tolist()\n",
    "                x=bat_dict[k]['cycles']['{}'.format(k_)]['t'].tolist()        \n",
    "                integral.append(integrate.trapz(y,x))\n",
    "            intg=sum(integral)\n",
    "            integralT_=np.hstack([integralT_,intg])\n",
    "\n",
    "\n",
    "\n",
    "        for k in test_data:\n",
    "            integral=[]\n",
    "            for k_ in range(2,i+1):\n",
    "                y=bat_dict[k]['cycles']['{}'.format(k_)]['T'].tolist()\n",
    "                x=bat_dict[k]['cycles']['{}'.format(k_)]['t'].tolist()        \n",
    "                integral.append(integrate.trapz(y,x))\n",
    "            intg=sum(integral)\n",
    "            integralT_test_=np.hstack([integralT_test_,intg])\n",
    "\n",
    "\n",
    "\n",
    "        for k in sec_data:\n",
    "            integral=[]\n",
    "            for k_ in range(2,i+1):\n",
    "                y=bat_dict[k]['cycles']['{}'.format(k_)]['T'].tolist()\n",
    "                x=bat_dict[k]['cycles']['{}'.format(k_)]['t'].tolist()        \n",
    "                integral.append(integrate.trapz(y,x))\n",
    "            intg=sum(integral)\n",
    "            integralT_sec_=np.hstack([integralT_sec_,intg])\n",
    "\n",
    "        # 16. internal resistance, cycle2 \n",
    "        cycle2IR_=np.array([])\n",
    "        cycle2IR_test_=np.array([])\n",
    "        cycle2IR_sec_=np.array([])\n",
    "        for k in train_data:\n",
    "            Cycle2=bat_dict[k]['summary']['IR'][2]\n",
    "            cycle2IR_=np.hstack([cycle2IR_,Cycle2])\n",
    "        for k in test_data:\n",
    "            Cycle2=bat_dict[k]['summary']['IR'][2]\n",
    "            cycle2IR_test_=np.hstack([cycle2IR_test_,Cycle2])\n",
    "        for k in sec_data:\n",
    "            Cycle2=bat_dict[k]['summary']['IR'][2]\n",
    "            cycle2IR_sec_=np.hstack([cycle2IR_sec_,Cycle2])  \n",
    "\n",
    "        # 17, Minimum internal resistance, cycles 2  to i      \n",
    "        minR_=np.array([])\n",
    "        minR_test_=np.array([])\n",
    "        minR_sec_=np.array([])\n",
    "\n",
    "        for k in train_data:\n",
    "            minIR=[]\n",
    "            for k_ in range(2,i+1):\n",
    "                IR=bat_dict[k]['summary']['IR'][k_]\n",
    "                if IR==0:\n",
    "                    continue\n",
    "                minIR.append(IR)\n",
    "            minIR_=min(minIR)\n",
    "            minR_=np.hstack([minR_,minIR_])\n",
    "        for k in test_data:\n",
    "            minIR=[]\n",
    "            for k_ in range(2,i+1):\n",
    "                IR=bat_dict[k]['summary']['IR'][k_]\n",
    "                if IR==0:\n",
    "                    continue\n",
    "                minIR.append(IR)\n",
    "            minIR_=min(minIR)\n",
    "            minR_test_=np.hstack([minR_test_,minIR_])\n",
    "        for k in sec_data:\n",
    "            minIR=[]\n",
    "            for k_ in range(2,i+1):\n",
    "                IR=bat_dict[k]['summary']['IR'][k_]\n",
    "                if IR==0:\n",
    "                    continue\n",
    "                minIR.append(IR)\n",
    "            minIR_=min(minIR)\n",
    "            minR_sec_=np.hstack([minR_sec_,minIR_])   \n",
    "\n",
    "\n",
    "        # 18  Internal resistance, difference between cycle i and cycle 1    \n",
    "        IRi_2_=np.array([])\n",
    "        IRi_2_test_=np.array([])\n",
    "        IRi_2_sec_=np.array([])\n",
    "\n",
    "        for k in train_data:\n",
    "            IR2=bat_dict[k]['summary']['IR'][1]\n",
    "            IR_i=bat_dict[k]['summary']['IR'][i]\n",
    "            IRi_2=IR_i-IR2\n",
    "            IRi_2_=np.hstack([IRi_2_,IRi_2])\n",
    "        for k in test_data:\n",
    "            IR2=bat_dict[k]['summary']['IR'][1]\n",
    "            IR_i=bat_dict[k]['summary']['IR'][i]\n",
    "            IRi_2=IR_i-IR2\n",
    "            IRi_2_test_=np.hstack([IRi_2_test_,IRi_2])\n",
    "        for k in sec_data:\n",
    "            IR2=bat_dict[k]['summary']['IR'][1]\n",
    "            IR_i=bat_dict[k]['summary']['IR'][i]\n",
    "            IRi_2=IR_i-IR2\n",
    "            IRi_2_sec_=np.hstack([IRi_2_sec_,IRi_2])\n",
    "\n",
    "\n",
    "        #데이터 특성별 정규화 과정 (18개의 feature를 합친 후 각 열을 정규화)\n",
    "        # 1. Train, Test, Sec\n",
    "        # min, mean, var, skew, kurt, Value 2V 는 log(abs)를 한다.\n",
    "        Train_data=np.hstack([np.log(np.abs(min_)).reshape(-1,1),np.log(np.abs(mean_)).reshape(-1,1),np.log(np.abs(var_)).reshape(-1,1),\n",
    "                             np.log(np.abs(skew_)).reshape(-1,1),np.log(np.abs(kurt_)).reshape(-1,1),np.log(np.abs(Value2V_)).reshape(-1,1),\n",
    "                             slope_.reshape(-1,1),intercept_.reshape(-1,1),cycle2_.reshape(-1,1),cyclemax_2_.reshape(-1,1),\n",
    "                             cycle_i_.reshape(-1,1),Average_.reshape(-1,1),Max_cycleT_.reshape(-1,1),Min_cycleT_.reshape(-1,1),\n",
    "                             integralT_.reshape(-1,1),cycle2IR_.reshape(-1,1),minR_.reshape(-1,1),IRi_2_.reshape(-1,1)])\n",
    "        Test_data=np.hstack([np.log(np.abs(min_test_)).reshape(-1,1),np.log(np.abs(mean_test_)).reshape(-1,1),np.log(np.abs(var_test_)).reshape(-1,1),\n",
    "                             np.log(np.abs(skew_test_)).reshape(-1,1),np.log(np.abs(kurt_test_)).reshape(-1,1),np.log(np.abs(Value2V_test_)).reshape(-1,1),\n",
    "                             slope_test_.reshape(-1,1),intercept_test_.reshape(-1,1),cycle2_test_.reshape(-1,1),cyclemax_2_test_.reshape(-1,1),\n",
    "                             cycle_i_test_.reshape(-1,1),Average_test_.reshape(-1,1),Max_cycleT_test_.reshape(-1,1),Min_cycleT_test_.reshape(-1,1),\n",
    "                             integralT_test_.reshape(-1,1),cycle2IR_test_.reshape(-1,1),minR_test_.reshape(-1,1),IRi_2_test_.reshape(-1,1)])    \n",
    "        Sec_data=np.hstack([np.log(np.abs(min_sec_)).reshape(-1,1),np.log(np.abs(mean_sec_)).reshape(-1,1),np.log(np.abs(var_sec_)).reshape(-1,1),\n",
    "                             np.log(np.abs(skew_sec_)).reshape(-1,1),np.log(np.abs(kurt_sec_)).reshape(-1,1),np.log(np.abs(Value2V_sec_)).reshape(-1,1),\n",
    "                             slope_sec_.reshape(-1,1),intercept_sec_.reshape(-1,1),cycle2_sec_.reshape(-1,1),cyclemax_2_sec_.reshape(-1,1),\n",
    "                             cycle_i_sec_.reshape(-1,1),Average_sec_.reshape(-1,1),Max_cycleT_sec_.reshape(-1,1),Min_cycleT_sec_.reshape(-1,1),\n",
    "                             integralT_sec_.reshape(-1,1),cycle2IR_sec_.reshape(-1,1),minR_sec_.reshape(-1,1),IRi_2_sec_.reshape(-1,1)])  \n",
    "        Train_data_standard=(Train_data-np.mean(Train_data,axis=0))/np.std(Train_data,axis=0)\n",
    "        Test_data_standard=(Test_data-np.mean(Train_data,axis=0))/np.std(Train_data,axis=0)\n",
    "        Sec_data_standard=(Sec_data-np.mean(Train_data,axis=0))/np.std(Train_data,axis=0)\n",
    "\n",
    "        \n",
    "        \n",
    "        \n",
    "        \n",
    "        boot_select_train=len(Train_data_standard)\n",
    "        boot_select_test=len(Test_data_standard)\n",
    "        boot_sample=20\n",
    "        train_range= range(0,boot_select_train) # 0~40 숫자중 41번 랜덤 선택하도록 한 후 배열에 이 숫자를 적용.\n",
    "        test_range= range(0,boot_select_test)\n",
    "        AUC_mean_train=[]\n",
    "        AUC_mean_test=[]\n",
    "        at_mean=[]\n",
    "        apt_mean=[]\n",
    "        ast_mean=[]\n",
    "        #부트스트랩 랜덤하게 같은 행을 각 데이터 수만큼 선택하여 데이터를 얻어냄.\n",
    "\n",
    "        for _ in range(boot_sample):\n",
    "            np.random.seed(42)\n",
    "            sample_n=np.random.choice(train_range ,size=boot_select_train)\n",
    "            sample_test=np.random.choice(test_range ,size=boot_select_test)\n",
    "            random_trainX=Train_data_standard[sample_n[0],:]\n",
    "            random_trainY=train_label[sample_n[0]]\n",
    "            random_testX=Test_data_standard[sample_test[0],:]\n",
    "            random_testY=test_label[sample_test[0]]\n",
    "\n",
    "            for n in sample_n[1:]:\n",
    "                random_trainX=np.vstack([random_trainX,Train_data_standard[n,:]])\n",
    "                random_trainY=np.hstack([random_trainY,train_label[n]])\n",
    "\n",
    "            for n in sample_test[1:]:\n",
    "                random_testX=np.vstack([random_testX,Test_data_standard[n,:]])\n",
    "                random_testY=np.hstack([random_testY,test_label[n]])\n",
    "\n",
    "            auc_train,auc_test,coef_,conf_train,conf_test,conf_sec, at , apt, ast=logistic_auc(Train_data_standard, train_label,Test_data_standard, test_label,Sec_data_standard, sec_label,random_trainX,random_trainY,random_testX, random_testY)\n",
    "            AUC_mean_train.append(auc_train)\n",
    "            AUC_mean_test.append(auc_test)\n",
    "            at_mean.append(at)\n",
    "            apt_mean.append(apt)\n",
    "            ast_mean.append(ast)\n",
    "            \n",
    "        print('i={},j={}   AUC_train= '.format(i,j),np.mean(AUC_mean_train))\n",
    "        print('i={},j={}   AUC_test= '.format(i,j),np.mean(AUC_mean_test))\n",
    "        print('coef_info=',coef_)\n",
    "        print('\\n')\n",
    "        mx_train[j,i]= np.mean(AUC_mean_train)\n",
    "        mx_test[j,i]= np.mean(AUC_mean_test)\n",
    "\n",
    "        #최적의 i,j값을 구해야함----------------------------------------\n",
    "\n",
    "        mx_acc_at[j,i] = np.mean(at_mean)\n",
    "        mx_acc_apt[j,i] = np.mean(apt_mean)\n",
    "        mx_acc_ast[j,i] = np.mean(ast_mean)\n",
    "        print('acc_train=',np.mean(at_mean))\n",
    "        print('acc_test=',np.mean(apt_mean))\n",
    "        print('acc_sec=',np.mean(ast_mean))\n",
    "        print('\\n')\n",
    "    else:\n",
    "        continue\n",
    "    "
   ]
  },
  {
   "cell_type": "markdown",
   "metadata": {},
   "source": [
    "# ACC = (TP + TN) / (TP + TN + FP + FN)"
   ]
  },
  {
   "cell_type": "code",
   "execution_count": 92,
   "metadata": {},
   "outputs": [],
   "source": [
    "test_cycle_label=[]\n",
    "train_cycle_label=[]\n",
    "sec_cycle_label=[]\n",
    "for i,j in enumerate(bat_dict.keys()):\n",
    "    if j=='b2c1':\n",
    "        continue\n",
    "    if j=='b3c16':\n",
    "        continue\n",
    "    if j=='b3c17':\n",
    "        continue\n",
    "    if j=='b3c42':\n",
    "        continue\n",
    "    if j=='b3c43':\n",
    "        continue\n",
    "    if i in test_ind :\n",
    "        cycle_test=bat_dict[j]['cycle_life'].tolist()\n",
    "        test_cycle_label.append(cycle_test[0][0])\n",
    "        \n",
    "    if i in train_ind :\n",
    "        cycle_train=bat_dict[j]['cycle_life'].tolist()\n",
    "        train_cycle_label.append(cycle_train[0][0])\n",
    "            \n",
    "            \n",
    "    if i in secondary_test_ind:\n",
    "        cycle_sec=bat_dict[j]['cycle_life'].tolist()\n",
    "        sec_cycle_label.append(cycle_sec[0][0])"
   ]
  },
  {
   "cell_type": "code",
   "execution_count": 93,
   "metadata": {},
   "outputs": [],
   "source": [
    "train_cycle_label=np.array(train_cycle_label)\n",
    "test_cycle_label=np.array(test_cycle_label)\n",
    "sec_cycle_label=np.array(sec_cycle_label)"
   ]
  },
  {
   "cell_type": "code",
   "execution_count": 94,
   "metadata": {
    "scrolled": true
   },
   "outputs": [
    {
     "data": {
      "image/png": "[encoded data removed]",
      "text/plain": [
       "<Figure size 432x288 with 1 Axes>"
      ]
     },
     "metadata": {
      "needs_background": "light"
     },
     "output_type": "display_data"
    },
    {
     "data": {
      "image/png": "[encoded data removed]",
      "text/plain": [
       "<Figure size 432x288 with 1 Axes>"
      ]
     },
     "metadata": {
      "needs_background": "light"
     },
     "output_type": "display_data"
    },
    {
     "data": {
      "image/png": "[encoded data removed]",
      "text/plain": [
       "<Figure size 432x288 with 1 Axes>"
      ]
     },
     "metadata": {
      "needs_background": "light"
     },
     "output_type": "display_data"
    },
    {
     "data": {
      "image/png": "[encoded data removed]",
      "text/plain": [
       "<Figure size 432x288 with 1 Axes>"
      ]
     },
     "metadata": {
      "needs_background": "light"
     },
     "output_type": "display_data"
    },
    {
     "data": {
      "image/png": "[encoded data removed]",
      "text/plain": [
       "<Figure size 432x288 with 1 Axes>"
      ]
     },
     "metadata": {
      "needs_background": "light"
     },
     "output_type": "display_data"
    },
    {
     "data": {
      "image/png": "[encoded data removed]",
      "text/plain": [
       "<Figure size 432x288 with 1 Axes>"
      ]
     },
     "metadata": {
      "needs_background": "light"
     },
     "output_type": "display_data"
    },
    {
     "data": {
      "image/png": "[encoded data removed]",
      "text/plain": [
       "<Figure size 432x288 with 1 Axes>"
      ]
     },
     "metadata": {
      "needs_background": "light"
     },
     "output_type": "display_data"
    },
    {
     "data": {
      "image/png": "[encoded data removed]",
      "text/plain": [
       "<Figure size 432x288 with 1 Axes>"
      ]
     },
     "metadata": {
      "needs_background": "light"
     },
     "output_type": "display_data"
    },
    {
     "data": {
      "image/png": "[encoded data removed]",
      "text/plain": [
       "<Figure size 432x288 with 1 Axes>"
      ]
     },
     "metadata": {
      "needs_background": "light"
     },
     "output_type": "display_data"
    },
    {
     "data": {
      "image/png": "[encoded data removed]",
      "text/plain": [
       "<Figure size 432x288 with 1 Axes>"
      ]
     },
     "metadata": {
      "needs_background": "light"
     },
     "output_type": "display_data"
    },
    {
     "data": {
      "image/png": "[encoded data removed]",
      "text/plain": [
       "<Figure size 432x288 with 1 Axes>"
      ]
     },
     "metadata": {
      "needs_background": "light"
     },
     "output_type": "display_data"
    },
    {
     "data": {
      "image/png": "[encoded data removed]",
      "text/plain": [
       "<Figure size 432x288 with 1 Axes>"
      ]
     },
     "metadata": {
      "needs_background": "light"
     },
     "output_type": "display_data"
    },
    {
     "data": {
      "image/png": "[encoded data removed]",
      "text/plain": [
       "<Figure size 432x288 with 1 Axes>"
      ]
     },
     "metadata": {
      "needs_background": "light"
     },
     "output_type": "display_data"
    },
    {
     "data": {
      "image/png": "[encoded data removed]",
      "text/plain": [
       "<Figure size 432x288 with 1 Axes>"
      ]
     },
     "metadata": {
      "needs_background": "light"
     },
     "output_type": "display_data"
    },
    {
     "data": {
      "image/png": "[encoded data removed]",
      "text/plain": [
       "<Figure size 432x288 with 1 Axes>"
      ]
     },
     "metadata": {
      "needs_background": "light"
     },
     "output_type": "display_data"
    },
    {
     "data": {
      "image/png": "[encoded data removed]",
      "text/plain": [
       "<Figure size 432x288 with 1 Axes>"
      ]
     },
     "metadata": {
      "needs_background": "light"
     },
     "output_type": "display_data"
    },
    {
     "data": {
      "image/png": "[encoded data removed]",
      "text/plain": [
       "<Figure size 432x288 with 1 Axes>"
      ]
     },
     "metadata": {
      "needs_background": "light"
     },
     "output_type": "display_data"
    },
    {
     "data": {
      "image/png": "[encoded data removed]",
      "text/plain": [
       "<Figure size 432x288 with 1 Axes>"
      ]
     },
     "metadata": {
      "needs_background": "light"
     },
     "output_type": "display_data"
    }
   ],
   "source": [
    "for i in range(18):\n",
    "    plt.scatter(Train_data_standard[:,i],train_label,color='blue',marker='o',alpha=0.5,s=10)\n",
    "    plt.scatter(Test_data_standard[:,i],test_label,color='red',marker='s',alpha=0.5,s=10)\n",
    "    plt.scatter(Sec_data_standard[:,i],sec_label,color='orange',marker='^',alpha=0.5,s=10)\n",
    "    plt.title('i=5,j=4 Z-scoring data {}'.format(i+1))\n",
    "    plt.axis([-6,6,-0.1,1.1])\n",
    "    plt.show()"
   ]
  },
  {
   "cell_type": "code",
   "execution_count": 95,
   "metadata": {},
   "outputs": [
    {
     "data": {
      "text/plain": [
       "Pipeline(steps=[('Log_reg', LogisticRegression(random_state=42))])"
      ]
     },
     "execution_count": 95,
     "metadata": {},
     "output_type": "execute_result"
    }
   ],
   "source": [
    "from sklearn.preprocessing import PolynomialFeatures\n",
    "from sklearn.pipeline import Pipeline\n",
    "from sklearn.linear_model import LogisticRegression\n",
    "from sklearn.model_selection import cross_val_predict\n",
    "from sklearn.metrics import roc_auc_score\n",
    "from sklearn.metrics import confusion_matrix\n",
    "from sklearn.preprocessing import StandardScaler\n",
    "from sklearn.metrics import accuracy_score\n",
    "Logistic_clf = Pipeline([\n",
    "    ('Log_reg', LogisticRegression(random_state=42))\n",
    "])\n",
    "\n",
    "Logistic_clf.fit(Train_data_standard, train_label)"
   ]
  },
  {
   "cell_type": "code",
   "execution_count": 96,
   "metadata": {},
   "outputs": [],
   "source": [
    "AUC_train=roc_auc_score(train_label, Logistic_clf.decision_function(Train_data_standard))"
   ]
  },
  {
   "cell_type": "code",
   "execution_count": 97,
   "metadata": {},
   "outputs": [
    {
     "data": {
      "text/plain": [
       "1.0"
      ]
     },
     "execution_count": 97,
     "metadata": {},
     "output_type": "execute_result"
    }
   ],
   "source": [
    "AUC_train"
   ]
  },
  {
   "cell_type": "code",
   "execution_count": 98,
   "metadata": {},
   "outputs": [
    {
     "data": {
      "text/plain": [
       "array([ 3.8593316 ,  5.15235284,  5.08495561,  4.66762614,  3.12961098,\n",
       "        1.78702823,  2.77008364,  2.53531437,  4.84895811,  3.51378266,\n",
       "        4.96583883,  3.44203885,  4.52176197,  4.82742956,  3.32002042,\n",
       "        5.15870606,  3.32375899,  3.17429107,  2.49734468,  2.26686553,\n",
       "       -3.93286321, -4.97450299, -3.133145  , -3.14755442, -2.96248284,\n",
       "       -2.08819037, -4.56225095, -6.9813558 , -4.08507762, -4.79161707,\n",
       "       -3.52351279, -3.69183764, -2.64065062, -2.61038469, -3.38978557,\n",
       "       -3.96410524, -2.32647413, -3.75435395, -4.10852411, -3.79830223,\n",
       "       -3.05941646])"
      ]
     },
     "execution_count": 98,
     "metadata": {},
     "output_type": "execute_result"
    }
   ],
   "source": [
    "Logistic_clf.decision_function(Train_data_standard)"
   ]
  },
  {
   "cell_type": "code",
   "execution_count": 99,
   "metadata": {},
   "outputs": [],
   "source": [
    "pred_train=Logistic_clf.predict(Train_data_standard)\n",
    "at=accuracy_score(train_label,pred_train)\n",
    "pred_test=Logistic_clf.predict(Test_data_standard)\n",
    "apt=accuracy_score(test_label,pred_test)\n",
    "pred_sec=Logistic_clf.predict(Sec_data_standard)\n",
    "ast=accuracy_score(sec_label,pred_sec)"
   ]
  },
  {
   "cell_type": "code",
   "execution_count": 100,
   "metadata": {},
   "outputs": [
    {
     "data": {
      "text/plain": [
       "(1.0, 0.9047619047619048, 0.9444444444444444)"
      ]
     },
     "execution_count": 100,
     "metadata": {},
     "output_type": "execute_result"
    }
   ],
   "source": [
    "at,apt,ast"
   ]
  },
  {
   "cell_type": "code",
   "execution_count": 90,
   "metadata": {},
   "outputs": [
    {
     "data": {
      "text/plain": [
       "(1.0, 0.9047619047619048, 0.9722222222222222)"
      ]
     },
     "execution_count": 90,
     "metadata": {},
     "output_type": "execute_result"
    }
   ],
   "source": [
    "# i=40,j=39\n",
    "#at,apt,ast"
   ]
  },
  {
   "cell_type": "code",
   "execution_count": 55,
   "metadata": {
    "scrolled": true
   },
   "outputs": [
    {
     "ename": "TypeError",
     "evalue": "Input z must be 2D, not 16D",
     "output_type": "error",
     "traceback": [
      "\u001b[1;31m---------------------------------------------------------------------------\u001b[0m",
      "\u001b[1;31mTypeError\u001b[0m                                 Traceback (most recent call last)",
      "\u001b[1;32m<ipython-input-55-ca7c96328034>\u001b[0m in \u001b[0;36m<module>\u001b[1;34m\u001b[0m\n\u001b[0;32m     34\u001b[0m     \u001b[1;31m#plt.contourf(x0, x1, y_decision, cmap=plt.cm.brg, alpha=0.1)\u001b[0m\u001b[1;33m\u001b[0m\u001b[1;33m\u001b[0m\u001b[1;33m\u001b[0m\u001b[0m\n\u001b[0;32m     35\u001b[0m \u001b[1;33m\u001b[0m\u001b[0m\n\u001b[1;32m---> 36\u001b[1;33m \u001b[0mplot_predictions\u001b[0m\u001b[1;33m(\u001b[0m\u001b[0mLogistic_clf\u001b[0m\u001b[1;33m,\u001b[0m \u001b[1;33m[\u001b[0m\u001b[1;33m-\u001b[0m\u001b[1;36m6\u001b[0m\u001b[1;33m,\u001b[0m \u001b[1;36m6\u001b[0m\u001b[1;33m,\u001b[0m \u001b[1;33m-\u001b[0m\u001b[1;36m6\u001b[0m\u001b[1;33m,\u001b[0m \u001b[1;36m6\u001b[0m\u001b[1;33m]\u001b[0m\u001b[1;33m)\u001b[0m\u001b[1;33m\u001b[0m\u001b[1;33m\u001b[0m\u001b[0m\n\u001b[0m\u001b[0;32m     37\u001b[0m \u001b[0mplot_dataset\u001b[0m\u001b[1;33m(\u001b[0m\u001b[0mX\u001b[0m\u001b[1;33m,\u001b[0m \u001b[0my\u001b[0m\u001b[1;33m,\u001b[0m \u001b[1;33m[\u001b[0m\u001b[1;33m-\u001b[0m\u001b[1;36m6\u001b[0m\u001b[1;33m,\u001b[0m \u001b[1;36m6\u001b[0m\u001b[1;33m,\u001b[0m \u001b[1;33m-\u001b[0m\u001b[1;36m6\u001b[0m\u001b[1;33m,\u001b[0m \u001b[1;36m6\u001b[0m\u001b[1;33m]\u001b[0m\u001b[1;33m)\u001b[0m\u001b[1;33m\u001b[0m\u001b[1;33m\u001b[0m\u001b[0m\n\u001b[0;32m     38\u001b[0m \u001b[0mplt\u001b[0m\u001b[1;33m.\u001b[0m\u001b[0mshow\u001b[0m\u001b[1;33m(\u001b[0m\u001b[1;33m)\u001b[0m\u001b[1;33m\u001b[0m\u001b[1;33m\u001b[0m\u001b[0m\n",
      "\u001b[1;32m<ipython-input-55-ca7c96328034>\u001b[0m in \u001b[0;36mplot_predictions\u001b[1;34m(clf, axes)\u001b[0m\n\u001b[0;32m     31\u001b[0m     \u001b[0my_pred\u001b[0m \u001b[1;33m=\u001b[0m \u001b[0mclf\u001b[0m\u001b[1;33m.\u001b[0m\u001b[0mpredict\u001b[0m\u001b[1;33m(\u001b[0m\u001b[0mX\u001b[0m\u001b[1;33m)\u001b[0m\u001b[1;33m.\u001b[0m\u001b[0mreshape\u001b[0m\u001b[1;33m(\u001b[0m\u001b[0mx0\u001b[0m\u001b[1;33m.\u001b[0m\u001b[0mshape\u001b[0m\u001b[1;33m)\u001b[0m\u001b[1;33m\u001b[0m\u001b[1;33m\u001b[0m\u001b[0m\n\u001b[0;32m     32\u001b[0m     \u001b[0my_decision\u001b[0m \u001b[1;33m=\u001b[0m \u001b[0mclf\u001b[0m\u001b[1;33m.\u001b[0m\u001b[0mdecision_function\u001b[0m\u001b[1;33m(\u001b[0m\u001b[0mX\u001b[0m\u001b[1;33m)\u001b[0m\u001b[1;33m.\u001b[0m\u001b[0mreshape\u001b[0m\u001b[1;33m(\u001b[0m\u001b[0mx0\u001b[0m\u001b[1;33m.\u001b[0m\u001b[0mshape\u001b[0m\u001b[1;33m)\u001b[0m\u001b[1;33m\u001b[0m\u001b[1;33m\u001b[0m\u001b[0m\n\u001b[1;32m---> 33\u001b[1;33m     \u001b[0mplt\u001b[0m\u001b[1;33m.\u001b[0m\u001b[0mcontourf\u001b[0m\u001b[1;33m(\u001b[0m\u001b[0mx0\u001b[0m\u001b[1;33m,\u001b[0m \u001b[0mx15\u001b[0m\u001b[1;33m,\u001b[0m \u001b[0my_pred\u001b[0m\u001b[1;33m[\u001b[0m\u001b[1;36m0\u001b[0m\u001b[1;33m,\u001b[0m\u001b[1;36m15\u001b[0m\u001b[1;33m]\u001b[0m\u001b[1;33m,\u001b[0m \u001b[0mcmap\u001b[0m\u001b[1;33m=\u001b[0m\u001b[0mplt\u001b[0m\u001b[1;33m.\u001b[0m\u001b[0mcm\u001b[0m\u001b[1;33m.\u001b[0m\u001b[0mbrg\u001b[0m\u001b[1;33m,\u001b[0m \u001b[0malpha\u001b[0m\u001b[1;33m=\u001b[0m\u001b[1;36m0.2\u001b[0m\u001b[1;33m)\u001b[0m\u001b[1;33m\u001b[0m\u001b[1;33m\u001b[0m\u001b[0m\n\u001b[0m\u001b[0;32m     34\u001b[0m     \u001b[1;31m#plt.contourf(x0, x1, y_decision, cmap=plt.cm.brg, alpha=0.1)\u001b[0m\u001b[1;33m\u001b[0m\u001b[1;33m\u001b[0m\u001b[1;33m\u001b[0m\u001b[0m\n\u001b[0;32m     35\u001b[0m \u001b[1;33m\u001b[0m\u001b[0m\n",
      "\u001b[1;32m~\\anaconda3\\lib\\site-packages\\matplotlib\\pyplot.py\u001b[0m in \u001b[0;36mcontourf\u001b[1;34m(data, *args, **kwargs)\u001b[0m\n\u001b[0;32m   2577\u001b[0m     __ret = gca().contourf(\n\u001b[0;32m   2578\u001b[0m         \u001b[1;33m*\u001b[0m\u001b[0margs\u001b[0m\u001b[1;33m,\u001b[0m \u001b[1;33m**\u001b[0m\u001b[1;33m(\u001b[0m\u001b[1;33m{\u001b[0m\u001b[1;34m\"data\"\u001b[0m\u001b[1;33m:\u001b[0m \u001b[0mdata\u001b[0m\u001b[1;33m}\u001b[0m \u001b[1;32mif\u001b[0m \u001b[0mdata\u001b[0m \u001b[1;32mis\u001b[0m \u001b[1;32mnot\u001b[0m \u001b[1;32mNone\u001b[0m \u001b[1;32melse\u001b[0m \u001b[1;33m{\u001b[0m\u001b[1;33m}\u001b[0m\u001b[1;33m)\u001b[0m\u001b[1;33m,\u001b[0m\u001b[1;33m\u001b[0m\u001b[1;33m\u001b[0m\u001b[0m\n\u001b[1;32m-> 2579\u001b[1;33m         **kwargs)\n\u001b[0m\u001b[0;32m   2580\u001b[0m     \u001b[1;32mif\u001b[0m \u001b[0m__ret\u001b[0m\u001b[1;33m.\u001b[0m\u001b[0m_A\u001b[0m \u001b[1;32mis\u001b[0m \u001b[1;32mnot\u001b[0m \u001b[1;32mNone\u001b[0m\u001b[1;33m:\u001b[0m \u001b[0msci\u001b[0m\u001b[1;33m(\u001b[0m\u001b[0m__ret\u001b[0m\u001b[1;33m)\u001b[0m  \u001b[1;31m# noqa\u001b[0m\u001b[1;33m\u001b[0m\u001b[1;33m\u001b[0m\u001b[0m\n\u001b[0;32m   2581\u001b[0m     \u001b[1;32mreturn\u001b[0m \u001b[0m__ret\u001b[0m\u001b[1;33m\u001b[0m\u001b[1;33m\u001b[0m\u001b[0m\n",
      "\u001b[1;32m~\\anaconda3\\lib\\site-packages\\matplotlib\\__init__.py\u001b[0m in \u001b[0;36minner\u001b[1;34m(ax, data, *args, **kwargs)\u001b[0m\n\u001b[0;32m   1436\u001b[0m     \u001b[1;32mdef\u001b[0m \u001b[0minner\u001b[0m\u001b[1;33m(\u001b[0m\u001b[0max\u001b[0m\u001b[1;33m,\u001b[0m \u001b[1;33m*\u001b[0m\u001b[0margs\u001b[0m\u001b[1;33m,\u001b[0m \u001b[0mdata\u001b[0m\u001b[1;33m=\u001b[0m\u001b[1;32mNone\u001b[0m\u001b[1;33m,\u001b[0m \u001b[1;33m**\u001b[0m\u001b[0mkwargs\u001b[0m\u001b[1;33m)\u001b[0m\u001b[1;33m:\u001b[0m\u001b[1;33m\u001b[0m\u001b[1;33m\u001b[0m\u001b[0m\n\u001b[0;32m   1437\u001b[0m         \u001b[1;32mif\u001b[0m \u001b[0mdata\u001b[0m \u001b[1;32mis\u001b[0m \u001b[1;32mNone\u001b[0m\u001b[1;33m:\u001b[0m\u001b[1;33m\u001b[0m\u001b[1;33m\u001b[0m\u001b[0m\n\u001b[1;32m-> 1438\u001b[1;33m             \u001b[1;32mreturn\u001b[0m \u001b[0mfunc\u001b[0m\u001b[1;33m(\u001b[0m\u001b[0max\u001b[0m\u001b[1;33m,\u001b[0m \u001b[1;33m*\u001b[0m\u001b[0mmap\u001b[0m\u001b[1;33m(\u001b[0m\u001b[0msanitize_sequence\u001b[0m\u001b[1;33m,\u001b[0m \u001b[0margs\u001b[0m\u001b[1;33m)\u001b[0m\u001b[1;33m,\u001b[0m \u001b[1;33m**\u001b[0m\u001b[0mkwargs\u001b[0m\u001b[1;33m)\u001b[0m\u001b[1;33m\u001b[0m\u001b[1;33m\u001b[0m\u001b[0m\n\u001b[0m\u001b[0;32m   1439\u001b[0m \u001b[1;33m\u001b[0m\u001b[0m\n\u001b[0;32m   1440\u001b[0m         \u001b[0mbound\u001b[0m \u001b[1;33m=\u001b[0m \u001b[0mnew_sig\u001b[0m\u001b[1;33m.\u001b[0m\u001b[0mbind\u001b[0m\u001b[1;33m(\u001b[0m\u001b[0max\u001b[0m\u001b[1;33m,\u001b[0m \u001b[1;33m*\u001b[0m\u001b[0margs\u001b[0m\u001b[1;33m,\u001b[0m \u001b[1;33m**\u001b[0m\u001b[0mkwargs\u001b[0m\u001b[1;33m)\u001b[0m\u001b[1;33m\u001b[0m\u001b[1;33m\u001b[0m\u001b[0m\n",
      "\u001b[1;32m~\\anaconda3\\lib\\site-packages\\matplotlib\\axes\\_axes.py\u001b[0m in \u001b[0;36mcontourf\u001b[1;34m(self, *args, **kwargs)\u001b[0m\n\u001b[0;32m   6338\u001b[0m     \u001b[1;32mdef\u001b[0m \u001b[0mcontourf\u001b[0m\u001b[1;33m(\u001b[0m\u001b[0mself\u001b[0m\u001b[1;33m,\u001b[0m \u001b[1;33m*\u001b[0m\u001b[0margs\u001b[0m\u001b[1;33m,\u001b[0m \u001b[1;33m**\u001b[0m\u001b[0mkwargs\u001b[0m\u001b[1;33m)\u001b[0m\u001b[1;33m:\u001b[0m\u001b[1;33m\u001b[0m\u001b[1;33m\u001b[0m\u001b[0m\n\u001b[0;32m   6339\u001b[0m         \u001b[0mkwargs\u001b[0m\u001b[1;33m[\u001b[0m\u001b[1;34m'filled'\u001b[0m\u001b[1;33m]\u001b[0m \u001b[1;33m=\u001b[0m \u001b[1;32mTrue\u001b[0m\u001b[1;33m\u001b[0m\u001b[1;33m\u001b[0m\u001b[0m\n\u001b[1;32m-> 6340\u001b[1;33m         \u001b[0mcontours\u001b[0m \u001b[1;33m=\u001b[0m \u001b[0mmcontour\u001b[0m\u001b[1;33m.\u001b[0m\u001b[0mQuadContourSet\u001b[0m\u001b[1;33m(\u001b[0m\u001b[0mself\u001b[0m\u001b[1;33m,\u001b[0m \u001b[1;33m*\u001b[0m\u001b[0margs\u001b[0m\u001b[1;33m,\u001b[0m \u001b[1;33m**\u001b[0m\u001b[0mkwargs\u001b[0m\u001b[1;33m)\u001b[0m\u001b[1;33m\u001b[0m\u001b[1;33m\u001b[0m\u001b[0m\n\u001b[0m\u001b[0;32m   6341\u001b[0m         \u001b[0mself\u001b[0m\u001b[1;33m.\u001b[0m\u001b[0m_request_autoscale_view\u001b[0m\u001b[1;33m(\u001b[0m\u001b[1;33m)\u001b[0m\u001b[1;33m\u001b[0m\u001b[1;33m\u001b[0m\u001b[0m\n\u001b[0;32m   6342\u001b[0m         \u001b[1;32mreturn\u001b[0m \u001b[0mcontours\u001b[0m\u001b[1;33m\u001b[0m\u001b[1;33m\u001b[0m\u001b[0m\n",
      "\u001b[1;32m~\\anaconda3\\lib\\site-packages\\matplotlib\\contour.py\u001b[0m in \u001b[0;36m__init__\u001b[1;34m(self, ax, levels, filled, linewidths, linestyles, hatches, alpha, origin, extent, cmap, colors, norm, vmin, vmax, extend, antialiased, nchunk, locator, transform, *args, **kwargs)\u001b[0m\n\u001b[0;32m    814\u001b[0m         \u001b[0mself\u001b[0m\u001b[1;33m.\u001b[0m\u001b[0m_transform\u001b[0m \u001b[1;33m=\u001b[0m \u001b[0mtransform\u001b[0m\u001b[1;33m\u001b[0m\u001b[1;33m\u001b[0m\u001b[0m\n\u001b[0;32m    815\u001b[0m \u001b[1;33m\u001b[0m\u001b[0m\n\u001b[1;32m--> 816\u001b[1;33m         \u001b[0mkwargs\u001b[0m \u001b[1;33m=\u001b[0m \u001b[0mself\u001b[0m\u001b[1;33m.\u001b[0m\u001b[0m_process_args\u001b[0m\u001b[1;33m(\u001b[0m\u001b[1;33m*\u001b[0m\u001b[0margs\u001b[0m\u001b[1;33m,\u001b[0m \u001b[1;33m**\u001b[0m\u001b[0mkwargs\u001b[0m\u001b[1;33m)\u001b[0m\u001b[1;33m\u001b[0m\u001b[1;33m\u001b[0m\u001b[0m\n\u001b[0m\u001b[0;32m    817\u001b[0m         \u001b[0mself\u001b[0m\u001b[1;33m.\u001b[0m\u001b[0m_process_levels\u001b[0m\u001b[1;33m(\u001b[0m\u001b[1;33m)\u001b[0m\u001b[1;33m\u001b[0m\u001b[1;33m\u001b[0m\u001b[0m\n\u001b[0;32m    818\u001b[0m \u001b[1;33m\u001b[0m\u001b[0m\n",
      "\u001b[1;32m~\\anaconda3\\lib\\site-packages\\matplotlib\\contour.py\u001b[0m in \u001b[0;36m_process_args\u001b[1;34m(self, corner_mask, *args, **kwargs)\u001b[0m\n\u001b[0;32m   1428\u001b[0m             \u001b[0mself\u001b[0m\u001b[1;33m.\u001b[0m\u001b[0m_corner_mask\u001b[0m \u001b[1;33m=\u001b[0m \u001b[0mcorner_mask\u001b[0m\u001b[1;33m\u001b[0m\u001b[1;33m\u001b[0m\u001b[0m\n\u001b[0;32m   1429\u001b[0m \u001b[1;33m\u001b[0m\u001b[0m\n\u001b[1;32m-> 1430\u001b[1;33m             \u001b[0mx\u001b[0m\u001b[1;33m,\u001b[0m \u001b[0my\u001b[0m\u001b[1;33m,\u001b[0m \u001b[0mz\u001b[0m \u001b[1;33m=\u001b[0m \u001b[0mself\u001b[0m\u001b[1;33m.\u001b[0m\u001b[0m_contour_args\u001b[0m\u001b[1;33m(\u001b[0m\u001b[0margs\u001b[0m\u001b[1;33m,\u001b[0m \u001b[0mkwargs\u001b[0m\u001b[1;33m)\u001b[0m\u001b[1;33m\u001b[0m\u001b[1;33m\u001b[0m\u001b[0m\n\u001b[0m\u001b[0;32m   1431\u001b[0m \u001b[1;33m\u001b[0m\u001b[0m\n\u001b[0;32m   1432\u001b[0m             \u001b[0m_mask\u001b[0m \u001b[1;33m=\u001b[0m \u001b[0mma\u001b[0m\u001b[1;33m.\u001b[0m\u001b[0mgetmask\u001b[0m\u001b[1;33m(\u001b[0m\u001b[0mz\u001b[0m\u001b[1;33m)\u001b[0m\u001b[1;33m\u001b[0m\u001b[1;33m\u001b[0m\u001b[0m\n",
      "\u001b[1;32m~\\anaconda3\\lib\\site-packages\\matplotlib\\contour.py\u001b[0m in \u001b[0;36m_contour_args\u001b[1;34m(self, args, kwargs)\u001b[0m\n\u001b[0;32m   1486\u001b[0m             \u001b[0margs\u001b[0m \u001b[1;33m=\u001b[0m \u001b[0margs\u001b[0m\u001b[1;33m[\u001b[0m\u001b[1;36m1\u001b[0m\u001b[1;33m:\u001b[0m\u001b[1;33m]\u001b[0m\u001b[1;33m\u001b[0m\u001b[1;33m\u001b[0m\u001b[0m\n\u001b[0;32m   1487\u001b[0m         \u001b[1;32melif\u001b[0m \u001b[0mNargs\u001b[0m \u001b[1;33m<=\u001b[0m \u001b[1;36m4\u001b[0m\u001b[1;33m:\u001b[0m\u001b[1;33m\u001b[0m\u001b[1;33m\u001b[0m\u001b[0m\n\u001b[1;32m-> 1488\u001b[1;33m             \u001b[0mx\u001b[0m\u001b[1;33m,\u001b[0m \u001b[0my\u001b[0m\u001b[1;33m,\u001b[0m \u001b[0mz\u001b[0m \u001b[1;33m=\u001b[0m \u001b[0mself\u001b[0m\u001b[1;33m.\u001b[0m\u001b[0m_check_xyz\u001b[0m\u001b[1;33m(\u001b[0m\u001b[0margs\u001b[0m\u001b[1;33m[\u001b[0m\u001b[1;33m:\u001b[0m\u001b[1;36m3\u001b[0m\u001b[1;33m]\u001b[0m\u001b[1;33m,\u001b[0m \u001b[0mkwargs\u001b[0m\u001b[1;33m)\u001b[0m\u001b[1;33m\u001b[0m\u001b[1;33m\u001b[0m\u001b[0m\n\u001b[0m\u001b[0;32m   1489\u001b[0m             \u001b[0margs\u001b[0m \u001b[1;33m=\u001b[0m \u001b[0margs\u001b[0m\u001b[1;33m[\u001b[0m\u001b[1;36m3\u001b[0m\u001b[1;33m:\u001b[0m\u001b[1;33m]\u001b[0m\u001b[1;33m\u001b[0m\u001b[1;33m\u001b[0m\u001b[0m\n\u001b[0;32m   1490\u001b[0m         \u001b[1;32melse\u001b[0m\u001b[1;33m:\u001b[0m\u001b[1;33m\u001b[0m\u001b[1;33m\u001b[0m\u001b[0m\n",
      "\u001b[1;32m~\\anaconda3\\lib\\site-packages\\matplotlib\\contour.py\u001b[0m in \u001b[0;36m_check_xyz\u001b[1;34m(self, args, kwargs)\u001b[0m\n\u001b[0;32m   1517\u001b[0m \u001b[1;33m\u001b[0m\u001b[0m\n\u001b[0;32m   1518\u001b[0m         \u001b[1;32mif\u001b[0m \u001b[0mz\u001b[0m\u001b[1;33m.\u001b[0m\u001b[0mndim\u001b[0m \u001b[1;33m!=\u001b[0m \u001b[1;36m2\u001b[0m\u001b[1;33m:\u001b[0m\u001b[1;33m\u001b[0m\u001b[1;33m\u001b[0m\u001b[0m\n\u001b[1;32m-> 1519\u001b[1;33m             \u001b[1;32mraise\u001b[0m \u001b[0mTypeError\u001b[0m\u001b[1;33m(\u001b[0m\u001b[1;34mf\"Input z must be 2D, not {z.ndim}D\"\u001b[0m\u001b[1;33m)\u001b[0m\u001b[1;33m\u001b[0m\u001b[1;33m\u001b[0m\u001b[0m\n\u001b[0m\u001b[0;32m   1520\u001b[0m         \u001b[1;32mif\u001b[0m \u001b[0mz\u001b[0m\u001b[1;33m.\u001b[0m\u001b[0mshape\u001b[0m\u001b[1;33m[\u001b[0m\u001b[1;36m0\u001b[0m\u001b[1;33m]\u001b[0m \u001b[1;33m<\u001b[0m \u001b[1;36m2\u001b[0m \u001b[1;32mor\u001b[0m \u001b[0mz\u001b[0m\u001b[1;33m.\u001b[0m\u001b[0mshape\u001b[0m\u001b[1;33m[\u001b[0m\u001b[1;36m1\u001b[0m\u001b[1;33m]\u001b[0m \u001b[1;33m<\u001b[0m \u001b[1;36m2\u001b[0m\u001b[1;33m:\u001b[0m\u001b[1;33m\u001b[0m\u001b[1;33m\u001b[0m\u001b[0m\n\u001b[0;32m   1521\u001b[0m             raise TypeError(f\"Input z must be at least a (2, 2) shaped array, \"\n",
      "\u001b[1;31mTypeError\u001b[0m: Input z must be 2D, not 16D"
     ]
    },
    {
     "data": {
      "image/png": "[encoded data removed]",
      "text/plain": [
       "<Figure size 432x288 with 1 Axes>"
      ]
     },
     "metadata": {
      "needs_background": "light"
     },
     "output_type": "display_data"
    }
   ],
   "source": [
    "def plot_dataset(X, y, axes):\n",
    "    plt.plot(X[:, 0][y==0], X[:, 16][y==0], \"bs\")\n",
    "    plt.plot(X[:, 0][y==1], X[:, 16][y==1], \"g^\")\n",
    "    plt.axis(axes)\n",
    "    plt.grid(True, which='both')\n",
    "    plt.xlabel(r\"$x_0$\", fontsize=20)\n",
    "    plt.ylabel(r\"$x_1$\", fontsize=20, rotation=0)\n",
    "\n",
    "def plot_predictions(clf, axes):\n",
    "    x0s = np.linspace(axes[0], axes[1], 100)\n",
    "    x1s = np.linspace(axes[2], axes[3], 1)\n",
    "    x2s = np.linspace(axes[0], axes[1], 1)\n",
    "    x3s = np.linspace(axes[2], axes[3], 1)\n",
    "    x4s = np.linspace(axes[0], axes[1], 1)\n",
    "    x5s = np.linspace(axes[2], axes[3], 1)\n",
    "    x6s = np.linspace(axes[0], axes[1], 1)\n",
    "    x7s = np.linspace(axes[2], axes[3], 1)\n",
    "    x8s = np.linspace(axes[0], axes[1], 1)\n",
    "    x9s = np.linspace(axes[2], axes[3], 1)\n",
    "    x10s = np.linspace(axes[0], axes[1], 1)\n",
    "    x11s = np.linspace(axes[2], axes[3], 1)\n",
    "    x12s = np.linspace(axes[0], axes[1], 1)\n",
    "    x13s = np.linspace(axes[2], axes[3], 1)\n",
    "    x14s = np.linspace(axes[0], axes[1], 1)\n",
    "    x15s = np.linspace(axes[2], axes[3], 100)\n",
    "    x16s = np.linspace(axes[0], axes[1], 1)\n",
    "    x17s = np.linspace(axes[2], axes[3], 1)\n",
    "\n",
    "    x0,x1,x2,x3,x4,x5,x6,x7,x8,x9,x10,x11,x12,x13,x14,x15,x16,x17= np.meshgrid(x0s,x1s,x2s,x3s,x4s,x5s,x6s,x7s,x8s,x9s,x10s,x11s,x12s,x13s,x14s,x15s,x16s,x17s)\n",
    "    X = np.c_[x0.ravel(), x1.ravel(),x2.ravel(), x3.ravel(),x4.ravel(), x5.ravel(),x6.ravel(), x7.ravel(),x8.ravel(), x9.ravel(),x10.ravel(), x11.ravel(),x12.ravel(), x13.ravel(),x14.ravel(), x15.ravel(),x16.ravel(), x17.ravel()]\n",
    "    y_pred = clf.predict(X).reshape(x0.shape)\n",
    "    y_decision = clf.decision_function(X).reshape(x0.shape)\n",
    "    plt.contourf(x0, x15, y_pred, cmap=plt.cm.brg, alpha=0.2)\n",
    "    #plt.contourf(x0, x1, y_decision, cmap=plt.cm.brg, alpha=0.1)\n",
    "\n",
    "plot_predictions(Logistic_clf, [-6, 6, -6, 6])\n",
    "plot_dataset(X, y, [-6, 6, -6, 6])\n",
    "plt.show()\n",
    "print('coef_',Logistic_clf.named_steps['Log_reg'].coef_)\n",
    "print('intercept_',Logistic_clf.named_steps['Log_reg'].intercept_)"
   ]
  },
  {
   "cell_type": "code",
   "execution_count": null,
   "metadata": {},
   "outputs": [],
   "source": []
  }
 ],
 "metadata": {
  "kernelspec": {
   "display_name": "Python 3",
   "language": "python",
   "name": "python3"
  },
  "language_info": {
   "codemirror_mode": {
    "name": "ipython",
    "version": 3
   },
   "file_extension": ".py",
   "mimetype": "text/x-python",
   "name": "python",
   "nbconvert_exporter": "python",
   "pygments_lexer": "ipython3",
   "version": "3.7.6"
  }
 },
 "nbformat": 4,
 "nbformat_minor": 4
}
