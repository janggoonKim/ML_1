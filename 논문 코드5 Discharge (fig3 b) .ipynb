{
 "cells": [
  {
   "cell_type": "code",
   "execution_count": 1,
   "metadata": {},
   "outputs": [],
   "source": [
    "import h5py\n",
    "import scipy.io\n",
    "import matplotlib.pyplot as plt\n",
    "import numpy as np\n",
    "import pickle\n",
    "import pandas as pd\n",
    "import matplotlib.cm as cm\n",
    "from scipy.signal import savgol_filter\n",
    "from scipy import stats\n",
    "\n",
    "batch1 = pickle.load(open(r'D:\\논문 준비\\코드 복사\\코드 복사\\코드 복사\\batch1.pkl', 'rb'))\n",
    "#remove batteries that do not reach 80% capacity\n",
    "del batch1['b1c8']\n",
    "del batch1['b1c10']\n",
    "del batch1['b1c12']\n",
    "del batch1['b1c13']\n",
    "del batch1['b1c22']\n",
    "\n",
    "numBat1 = len(batch1.keys())\n",
    "\n",
    "batch2 = pickle.load(open(r'D:\\논문 준비\\코드 복사\\코드 복사\\코드 복사\\batch2.pkl','rb'))\n",
    "# There are four cells from batch1 that carried into batch2, we'll remove the data from batch2\n",
    "# and put it with the correct cell from batch1\n",
    "batch2_keys = ['b2c7', 'b2c8', 'b2c9', 'b2c15', 'b2c16']\n",
    "batch1_keys = ['b1c0', 'b1c1', 'b1c2', 'b1c3', 'b1c4']\n",
    "add_len = [662, 981, 1060, 208, 482];\n",
    "\n",
    "for i, bk in enumerate(batch1_keys):\n",
    "    batch1[bk]['cycle_life'] = batch1[bk]['cycle_life'] + add_len[i]\n",
    "    for j in batch1[bk]['summary'].keys():\n",
    "        if j == 'cycle':\n",
    "            batch1[bk]['summary'][j] = np.hstack((batch1[bk]['summary'][j], batch2[batch2_keys[i]]['summary'][j] + len(batch1[bk]['summary'][j])))\n",
    "        else:\n",
    "            batch1[bk]['summary'][j] = np.hstack((batch1[bk]['summary'][j], batch2[batch2_keys[i]]['summary'][j]))\n",
    "    last_cycle = len(batch1[bk]['cycles'].keys())\n",
    "    for j, jk in enumerate(batch2[batch2_keys[i]]['cycles'].keys()):\n",
    "        batch1[bk]['cycles'][str(last_cycle + j)] = batch2[batch2_keys[i]]['cycles'][jk]\n",
    "\n",
    "del batch2['b2c7']\n",
    "del batch2['b2c8']\n",
    "del batch2['b2c9']\n",
    "del batch2['b2c15']\n",
    "del batch2['b2c16']\n",
    "\n",
    "numBat2 = len(batch2.keys())\n",
    "\n",
    "batch3 = pickle.load(open(r'D:\\논문 준비\\코드 복사\\코드 복사\\코드 복사\\batch3.pkl','rb'))\n",
    "# remove noisy channels from batch3\n",
    "del batch3['b3c37']\n",
    "del batch3['b3c2']\n",
    "del batch3['b3c23']\n",
    "del batch3['b3c32']\n",
    "del batch3['b3c38']\n",
    "del batch3['b3c39']\n",
    "\n",
    "numBat3 = len(batch3.keys())\n",
    "numBat = numBat1 + numBat2 + numBat3\n",
    "bat_dict = {**batch1, **batch2, **batch3}"
   ]
  },
  {
   "cell_type": "code",
   "execution_count": 10,
   "metadata": {},
   "outputs": [],
   "source": [
    "#1. Minimum feature\n",
    "# train prim_test secondary_test\n",
    "bat1_2 = {**batch1, **batch2}\n",
    "\n",
    "prim_test_min=[]\n",
    "prim_test_cycle=[]\n",
    "Train_min=[]\n",
    "Train_cycle=[]\n",
    "secondary_cycle=[]\n",
    "secondary_min=[]\n",
    "\n",
    "for i,j in enumerate(bat1_2.keys()):\n",
    "    a=len(bat1_2.keys())\n",
    "    Qdlin10,Qdlin100=bat_dict[j]['cycles']['9']['Qdlin'],bat_dict[j]['cycles']['99']['Qdlin']\n",
    "    diff=diff=Qdlin100-Qdlin10\n",
    "    mi,cycle=np.min(diff),bat_dict[j]['cycle_life'].tolist()\n",
    "    if i==83:\n",
    "        prim_test_min.append(mi)\n",
    "        prim_test_cycle.append(cycle)\n",
    "        break\n",
    "    if i%2==0:\n",
    "        prim_test_min.append(mi)\n",
    "        prim_test_cycle.append(cycle)\n",
    "    if i%2==1:\n",
    "        Train_min.append(mi)\n",
    "        Train_cycle.append(cycle)\n",
    "\n",
    "for i,j in enumerate(batch3.keys()):\n",
    "    Qdlin10,Qdlin100=bat_dict[j]['cycles']['9']['Qdlin'],bat_dict[j]['cycles']['99']['Qdlin']\n",
    "    diff=Qdlin100-Qdlin10\n",
    "    mi,cycle=np.min(diff),bat_dict[j]['cycle_life'].tolist()\n",
    "    secondary_min.append(mi)\n",
    "    secondary_cycle.append(cycle)"
   ]
  },
  {
   "cell_type": "code",
   "execution_count": 11,
   "metadata": {},
   "outputs": [],
   "source": [
    "#2. Variance\n",
    "# train prim_test secondary_test\n",
    "prim_test_var=[]\n",
    "Train_var=[]\n",
    "secondary_var=[]\n",
    "for i,j in enumerate(bat1_2.keys()):\n",
    "    a=len(bat1_2.keys())\n",
    "    Qdlin10,Qdlin100=bat_dict[j]['cycles']['9']['Qdlin'],bat_dict[j]['cycles']['99']['Qdlin']\n",
    "    diff=diff=Qdlin100-Qdlin10\n",
    "    var=np.var(diff)\n",
    "    if i==83:\n",
    "        prim_test_var.append(var)\n",
    "        break\n",
    "    if i%2==0:\n",
    "        prim_test_var.append(var)\n",
    "    if i%2==1:\n",
    "        Train_var.append(var)\n",
    "for i,j in enumerate(batch3.keys()):\n",
    "    Qdlin10,Qdlin100=bat_dict[j]['cycles']['9']['Qdlin'],bat_dict[j]['cycles']['99']['Qdlin']\n",
    "    diff=Qdlin100-Qdlin10\n",
    "    var=np.var(diff)\n",
    "    secondary_var.append(var)"
   ]
  },
  {
   "cell_type": "code",
   "execution_count": 12,
   "metadata": {},
   "outputs": [],
   "source": [
    "#3. Skewness\n",
    "# train prim_test secondary_test\n",
    "from scipy.stats import skew\n",
    "prim_test_skew=[]\n",
    "Train_skew=[]\n",
    "secondary_skew=[]\n",
    "for i,j in enumerate(bat1_2.keys()):\n",
    "    a=len(bat1_2.keys())\n",
    "    Qdlin10,Qdlin100=bat_dict[j]['cycles']['9']['Qdlin'],bat_dict[j]['cycles']['99']['Qdlin']\n",
    "    diff=diff=Qdlin100-Qdlin10\n",
    "    sk=skew(diff)\n",
    "    if i==83:\n",
    "        prim_test_skew.append(sk)\n",
    "        break\n",
    "    if i%2==0:\n",
    "        prim_test_skew.append(sk)\n",
    "    if i%2==1:\n",
    "        Train_skew.append(sk)\n",
    "for i,j in enumerate(batch3.keys()):\n",
    "    Qdlin10,Qdlin100=bat_dict[j]['cycles']['9']['Qdlin'],bat_dict[j]['cycles']['99']['Qdlin']\n",
    "    diff=Qdlin100-Qdlin10\n",
    "    sk=skew(diff)\n",
    "    secondary_skew.append(sk)"
   ]
  },
  {
   "cell_type": "code",
   "execution_count": 13,
   "metadata": {},
   "outputs": [],
   "source": [
    "#4. Kutosis\n",
    "# train prim_test secondary_test\n",
    "from scipy.stats import kurtosis\n",
    "prim_test_kurt=[]\n",
    "Train_kurt=[]\n",
    "secondary_kurt=[]\n",
    "for i,j in enumerate(bat1_2.keys()):\n",
    "    a=len(bat1_2.keys())\n",
    "    Qdlin10,Qdlin100=bat_dict[j]['cycles']['9']['Qdlin'],bat_dict[j]['cycles']['99']['Qdlin']\n",
    "    diff=diff=Qdlin100-Qdlin10\n",
    "    kurt=kurtosis(diff,fisher=True)\n",
    "    if i==83:\n",
    "        prim_test_kurt.append(kurt)\n",
    "        break\n",
    "    if i%2==0:\n",
    "        prim_test_kurt.append(kurt)\n",
    "    if i%2==1:\n",
    "        Train_kurt.append(kurt)\n",
    "for i,j in enumerate(batch3.keys()):\n",
    "    Qdlin10,Qdlin100=bat_dict[j]['cycles']['9']['Qdlin'],bat_dict[j]['cycles']['99']['Qdlin']\n",
    "    diff=Qdlin100-Qdlin10\n",
    "    kurt=kurtosis(diff,fisher=True)\n",
    "    secondary_kurt.append(kurt)"
   ]
  },
  {
   "cell_type": "code",
   "execution_count": 14,
   "metadata": {},
   "outputs": [],
   "source": [
    "#5. Discharge Capacity, Cycle2\n",
    "# train prim_test secondary_test\n",
    "prim_test_Cycle2=[]\n",
    "Train_Cycle2=[]\n",
    "secondary_Cycle2=[]\n",
    "for i,j in enumerate(bat1_2.keys()):\n",
    "    a=len(bat1_2.keys())\n",
    "    Cycle2=np.max(bat_dict[j]['cycles']['1']['Qdlin'])\n",
    "    if i==83:\n",
    "        prim_test_Cycle2.append(Cycle2)\n",
    "        break\n",
    "    if i%2==0:\n",
    "        prim_test_Cycle2.append(Cycle2)\n",
    "    if i%2==1:\n",
    "        Train_Cycle2.append(Cycle2)\n",
    "for i,j in enumerate(batch3.keys()):\n",
    "    Cycle2=np.max(bat_dict[j]['cycles']['1']['Qdlin'])\n",
    "    secondary_Cycle2.append(Cycle2)"
   ]
  },
  {
   "cell_type": "code",
   "execution_count": 15,
   "metadata": {},
   "outputs": [],
   "source": [
    "#6. Difference between max discharge capacity and cycle 2\n",
    "# train prim_test secondary_test\n",
    "prim_test_max_Q=[]\n",
    "Train_max_Q=[]\n",
    "secondary_max_Q=[]\n",
    "for i,j in enumerate(bat1_2.keys()):\n",
    "    a=len(bat1_2.keys())\n",
    "    max_Q=[]\n",
    "    for k in range(100):\n",
    "        max_q=np.max(bat_dict[j]['cycles']['{}'.format(k)]['Qdlin'])\n",
    "        max_Q.append(max_q)\n",
    "    max_Q=np.array(max_Q)\n",
    "    max_Q=np.max(max_Q)\n",
    "    if i==83:\n",
    "        prim_test_max_Q.append(max_Q)\n",
    "        break\n",
    "    if i%2==0:\n",
    "        prim_test_max_Q.append(max_Q)\n",
    "    if i%2==1:\n",
    "        Train_max_Q.append(max_Q)\n",
    "for i,j in enumerate(batch3.keys()):\n",
    "    max_Q=[]\n",
    "    for k in range(100):\n",
    "        max_q=np.max(bat_dict[j]['cycles']['{}'.format(k)]['Qdlin'])\n",
    "        max_Q.append(max_q)\n",
    "    max_Q=np.array(max_Q)\n",
    "    max_Q=np.max(max_Q)\n",
    "    secondary_max_Q.append(max_Q)"
   ]
  },
  {
   "cell_type": "code",
   "execution_count": 16,
   "metadata": {},
   "outputs": [],
   "source": [
    "prim_test_min2=np.log10(np.abs(np.array(prim_test_min))).reshape(-1,1)\n",
    "prim_test_cycle2=np.array(prim_test_cycle).reshape(-1,1)\n",
    "Train_min1=np.log10(np.abs(np.array(Train_min))).reshape(-1,1)\n",
    "Train_cycle1=np.array(Train_cycle).reshape(-1,1)\n",
    "secondary_cycle3=np.array(secondary_cycle).reshape(-1,1)\n",
    "secondary_min3=np.log10(np.abs(np.array(secondary_min))).reshape(-1,1)\n",
    "\n",
    "prim_test_var2=np.log10(np.abs(np.array(prim_test_var))).reshape(-1,1)\n",
    "Train_var1=np.log10(np.abs(np.array(Train_var))).reshape(-1,1)\n",
    "secondary_var3=np.log10(np.abs(np.array(secondary_var))).reshape(-1,1)\n",
    "\n",
    "prim_test_skew2=np.log10(np.abs(np.array(prim_test_skew))).reshape(-1,1)\n",
    "Train_skew1=np.log10(np.abs(np.array(Train_skew))).reshape(-1,1)\n",
    "secondary_skew3=np.log10(np.abs(np.array(secondary_skew))).reshape(-1,1)\n",
    "\n",
    "prim_test_kurt2=np.log10(np.abs(np.array(prim_test_kurt))).reshape(-1,1)\n",
    "Train_kurt1=np.log10(np.abs(np.array(Train_kurt))).reshape(-1,1)\n",
    "secondary_kurt3=np.log10(np.abs(np.array(secondary_kurt))).reshape(-1,1)\n",
    "\n",
    "prim_test_Cycle22=np.array(prim_test_Cycle2).reshape(-1,1)\n",
    "Train_Cycle21=np.array(Train_Cycle2).reshape(-1,1)\n",
    "secondary_Cycle23=np.array(secondary_Cycle2).reshape(-1,1)\n",
    "\n",
    "prim_test_max_Q2=np.array(prim_test_max_Q).reshape(-1,1)\n",
    "Train_max_Q1=np.array(Train_max_Q).reshape(-1,1)\n",
    "secondary_max_Q3=np.array(secondary_max_Q).reshape(-1,1)"
   ]
  },
  {
   "cell_type": "code",
   "execution_count": 17,
   "metadata": {},
   "outputs": [
    {
     "data": {
      "text/plain": [
       "((41, 6), (41, 1))"
      ]
     },
     "execution_count": 17,
     "metadata": {},
     "output_type": "execute_result"
    }
   ],
   "source": [
    "#min,var,skew,kurt,cycle2,max-cycle2, 정답cycle\n",
    "Train_dataset=np.hstack([Train_min1,Train_var1,Train_skew1,Train_kurt1,Train_Cycle21,Train_max_Q1])\n",
    "label_dataset=Train_cycle1\n",
    "Train_dataset.shape, label_dataset.shape"
   ]
  },
  {
   "cell_type": "code",
   "execution_count": 18,
   "metadata": {},
   "outputs": [
    {
     "data": {
      "text/plain": [
       "ElasticNetCV(cv=4)"
      ]
     },
     "execution_count": 18,
     "metadata": {},
     "output_type": "execute_result"
    }
   ],
   "source": [
    "#elasticnet\n",
    "from sklearn.linear_model import ElasticNetCV\n",
    "regr=ElasticNetCV(cv=4)\n",
    "Train=Train_dataset\n",
    "label=np.log10(label_dataset).reshape(-1)\n",
    "regr.fit(Train,label)"
   ]
  },
  {
   "cell_type": "code",
   "execution_count": 19,
   "metadata": {},
   "outputs": [
    {
     "name": "stdout",
     "output_type": "stream",
     "text": [
      "0.0026831540417136587\n",
      "[-0.         -0.36174577  0.03242205 -0.          0.          0.00173852]\n",
      "1.494532354275695\n"
     ]
    }
   ],
   "source": [
    "print(regr.alpha_)\n",
    "print(regr.coef_)\n",
    "print(regr.intercept_)"
   ]
  },
  {
   "cell_type": "code",
   "execution_count": 20,
   "metadata": {},
   "outputs": [
    {
     "data": {
      "image/png": "[encoded data removed]",
      "text/plain": [
       "<Figure size 432x432 with 1 Axes>"
      ]
     },
     "metadata": {
      "needs_background": "light"
     },
     "output_type": "display_data"
    }
   ],
   "source": [
    "x=[0,2500];y=[0,2500]\n",
    "plt.figure(figsize=(6,6))\n",
    "plt.plot(x,y,c='black')\n",
    "pred=regr.predict(Train)\n",
    "plt.scatter(10**label,10**pred,color='blue',marker='o')\n",
    "plt.title('train')\n",
    "plt.axis([0,2500,0,2500])\n",
    "plt.show()"
   ]
  },
  {
   "cell_type": "code",
   "execution_count": 21,
   "metadata": {},
   "outputs": [
    {
     "name": "stdout",
     "output_type": "stream",
     "text": [
      "train RMSE, Mean Absolute Percentage Error\n"
     ]
    },
    {
     "data": {
      "text/plain": [
       "(103.07949098006692, 13.328542756339981)"
      ]
     },
     "execution_count": 21,
     "metadata": {},
     "output_type": "execute_result"
    }
   ],
   "source": [
    "def MAPE(y_test, y_pred):\n",
    "    return np.mean(np.abs((y_test - y_pred) / y_test)) * 100 \n",
    "from sklearn.metrics import mean_squared_error\n",
    "rmse1=np.sqrt(mean_squared_error(10**label,10**pred))\n",
    "print('train RMSE, Mean Absolute Percentage Error')\n",
    "rmse1,MAPE(10**label,10**pred)"
   ]
  },
  {
   "cell_type": "code",
   "execution_count": 22,
   "metadata": {},
   "outputs": [
    {
     "data": {
      "text/plain": [
       "((43, 6), (43, 1))"
      ]
     },
     "execution_count": 22,
     "metadata": {},
     "output_type": "execute_result"
    }
   ],
   "source": [
    "#min,var,skew,kurt,cycle2,max-cycle2, 정답cycle\n",
    "Train_dataset2=np.hstack([prim_test_min2,prim_test_var2,prim_test_skew2,prim_test_kurt2,prim_test_Cycle22,prim_test_max_Q2])\n",
    "label_dataset2=prim_test_cycle2\n",
    "Train_dataset2.shape, label_dataset2.shape"
   ]
  },
  {
   "cell_type": "code",
   "execution_count": 23,
   "metadata": {},
   "outputs": [],
   "source": [
    "Train2=Train_dataset2\n",
    "label2=np.log10(label_dataset2).reshape(-1)\n",
    "pred2=regr.predict(Train2)"
   ]
  },
  {
   "cell_type": "code",
   "execution_count": 24,
   "metadata": {},
   "outputs": [
    {
     "data": {
      "image/png": "[encoded data removed]",
      "text/plain": [
       "<Figure size 432x432 with 1 Axes>"
      ]
     },
     "metadata": {
      "needs_background": "light"
     },
     "output_type": "display_data"
    }
   ],
   "source": [
    "x=[0,2500];y=[0,2500]\n",
    "plt.figure(figsize=(6,6))\n",
    "plt.plot(x,y,c='black')\n",
    "plt.scatter(10**label2,10**pred2,color='red',marker='s')\n",
    "plt.title('primary test')\n",
    "plt.axis([0,2500,0,2500])\n",
    "plt.show()"
   ]
  },
  {
   "cell_type": "code",
   "execution_count": 25,
   "metadata": {},
   "outputs": [
    {
     "name": "stdout",
     "output_type": "stream",
     "text": [
      "primary test RMSE, Mean Absolute Percentage Error\n"
     ]
    },
    {
     "data": {
      "text/plain": [
       "(135.37527573145871, 14.710237661471234)"
      ]
     },
     "execution_count": 25,
     "metadata": {},
     "output_type": "execute_result"
    }
   ],
   "source": [
    "rmse2=np.sqrt(mean_squared_error(10**label2,10**pred2))\n",
    "print('primary test RMSE, Mean Absolute Percentage Error')\n",
    "rmse2,MAPE(10**label2,10**pred2)"
   ]
  },
  {
   "cell_type": "code",
   "execution_count": 27,
   "metadata": {},
   "outputs": [
    {
     "data": {
      "text/plain": [
       "((40, 6), (40, 1))"
      ]
     },
     "execution_count": 27,
     "metadata": {},
     "output_type": "execute_result"
    }
   ],
   "source": [
    "#secondary\n",
    "#min,var,skew,kurt,cycle2,max-cycle2, 정답cycle\n",
    "Train_dataset3=np.hstack([secondary_min3,secondary_var3,secondary_skew3,secondary_kurt3,secondary_Cycle23,secondary_max_Q3])\n",
    "label_dataset3=secondary_cycle3\n",
    "Train_dataset3.shape, label_dataset3.shape"
   ]
  },
  {
   "cell_type": "code",
   "execution_count": 28,
   "metadata": {},
   "outputs": [],
   "source": [
    "Train3=Train_dataset3\n",
    "label3=np.log10(label_dataset3).reshape(-1)\n",
    "pred3=regr.predict(Train3)"
   ]
  },
  {
   "cell_type": "code",
   "execution_count": 29,
   "metadata": {
    "scrolled": true
   },
   "outputs": [
    {
     "data": {
      "image/png": "[encoded data removed]",
      "text/plain": [
       "<Figure size 432x432 with 1 Axes>"
      ]
     },
     "metadata": {
      "needs_background": "light"
     },
     "output_type": "display_data"
    }
   ],
   "source": [
    "x=[0,2500];y=[0,2500]\n",
    "plt.figure(figsize=(6,6))\n",
    "plt.plot(x,y,c='black')\n",
    "plt.scatter(10**label3,10**pred3,color='orange',marker='^')\n",
    "plt.title('secondary')\n",
    "plt.axis([0,2500,0,2500])\n",
    "plt.show()"
   ]
  },
  {
   "cell_type": "code",
   "execution_count": 30,
   "metadata": {},
   "outputs": [
    {
     "name": "stdout",
     "output_type": "stream",
     "text": [
      "secondary test RMSE, Mean Absolute Percentage Error\n"
     ]
    },
    {
     "data": {
      "text/plain": [
       "(183.59642704628658, 11.774028274716638)"
      ]
     },
     "execution_count": 30,
     "metadata": {},
     "output_type": "execute_result"
    }
   ],
   "source": [
    "rmse3=np.sqrt(mean_squared_error(10**label3,10**pred3))\n",
    "print('secondary test RMSE, Mean Absolute Percentage Error')\n",
    "rmse3,MAPE(10**label3,10**pred3)"
   ]
  },
  {
   "cell_type": "code",
   "execution_count": 31,
   "metadata": {},
   "outputs": [
    {
     "data": {
      "image/png": "[encoded data removed]",
      "text/plain": [
       "<Figure size 432x432 with 1 Axes>"
      ]
     },
     "metadata": {
      "needs_background": "light"
     },
     "output_type": "display_data"
    }
   ],
   "source": [
    "x=[0,2500];y=[0,2500]\n",
    "plt.figure(figsize=(6,6))\n",
    "plt.plot(x,y,c='black')\n",
    "plt.scatter(10**label3,10**pred3,color='orange',marker='^',label='secondary')\n",
    "plt.scatter(10**label2,10**pred2,color='red',marker='s',label='primary test')\n",
    "plt.scatter(10**label,10**pred,color='blue',marker='o',label='train')\n",
    "plt.title('secondary')\n",
    "plt.axis([0,2500,0,2500])\n",
    "plt.legend()\n",
    "plt.show()"
   ]
  },
  {
   "cell_type": "code",
   "execution_count": 32,
   "metadata": {
    "scrolled": true
   },
   "outputs": [
    {
     "name": "stdout",
     "output_type": "stream",
     "text": [
      "(43,) (40,)\n",
      "[[ 150.61721523]\n",
      " [-611.19215493]\n",
      " [  54.81448319]\n",
      " [  67.2936066 ]\n",
      " [-156.78033619]\n",
      " [  -4.56712902]\n",
      " [  28.89577011]\n",
      " [ -95.12594694]\n",
      " [  23.9102346 ]\n",
      " [-161.36973664]\n",
      " [  14.93920637]\n",
      " [ -95.56060222]\n",
      " [-197.6391968 ]\n",
      " [-196.77997792]\n",
      " [-148.26052073]\n",
      " [ -30.21032937]\n",
      " [  -9.57747158]\n",
      " [ -78.40690045]\n",
      " [-162.5540947 ]\n",
      " [ -15.79902075]\n",
      " [ -91.94908928]\n",
      " [ 155.25261965]\n",
      " [  14.91862086]\n",
      " [ 100.68824241]\n",
      " [  45.52800989]\n",
      " [  23.60540619]\n",
      " [  53.66323258]\n",
      " [  62.52981078]\n",
      " [ 140.21848638]\n",
      " [  37.71199874]\n",
      " [ 144.28034115]\n",
      " [  21.50952527]\n",
      " [  43.07453792]\n",
      " [ 118.32648771]\n",
      " [  25.16733837]\n",
      " [ 142.14608239]\n",
      " [  53.9049231 ]\n",
      " [  72.5620884 ]\n",
      " [  44.88534716]\n",
      " [ 106.69347022]\n",
      " [  44.49873551]\n",
      " [  45.23624552]\n",
      " [ 152.41092738]\n",
      " [  11.96319991]\n",
      " [   6.13609518]\n",
      " [-170.55180467]\n",
      " [ -56.65914837]\n",
      " [  82.2614827 ]\n",
      " [ -89.5395034 ]\n",
      " [-562.51781489]\n",
      " [  73.3948315 ]\n",
      " [-251.36571652]\n",
      " [ 103.35400198]\n",
      " [ -68.73876232]\n",
      " [-211.23001083]\n",
      " [  92.77304309]\n",
      " [ -26.22411582]\n",
      " [ -49.51126415]\n",
      " [-214.72627487]\n",
      " [-206.36301673]\n",
      " [-112.06302012]\n",
      " [-209.19283723]\n",
      " [  82.63907401]\n",
      " [-100.87892595]\n",
      " [-172.36956201]\n",
      " [ 139.07169721]\n",
      " [ -29.11451199]\n",
      " [ -10.19521861]\n",
      " [  96.39590509]\n",
      " [  -6.45275954]\n",
      " [  36.33517459]\n",
      " [  -9.76104302]\n",
      " [ -13.91449328]\n",
      " [ -97.30853761]\n",
      " [ -86.28483901]\n",
      " [ -66.9362743 ]\n",
      " [ 113.48420135]\n",
      " [ 285.04514108]\n",
      " [ 233.14056714]\n",
      " [-444.57803886]\n",
      " [  95.58325692]\n",
      " [  -4.38630166]\n",
      " [-494.59579389]] (83, 1)\n"
     ]
    }
   ],
   "source": [
    "s_res=(10**pred3)-(10**label3)\n",
    "p_res=(10**pred2)-(10**label2)\n",
    "print(p_res.shape,s_res.shape)\n",
    "\n",
    "s_res=s_res.reshape(-1,1)\n",
    "p_res=p_res.reshape(-1,1)\n",
    "his=np.vstack([p_res,s_res])\n",
    "print(his,his.shape)"
   ]
  },
  {
   "cell_type": "code",
   "execution_count": 33,
   "metadata": {},
   "outputs": [
    {
     "data": {
      "text/plain": [
       "(0.0, 25.0)"
      ]
     },
     "execution_count": 33,
     "metadata": {},
     "output_type": "execute_result"
    },
    {
     "data": {
      "image/png": "[encoded data removed]",
      "text/plain": [
       "<Figure size 432x288 with 1 Axes>"
      ]
     },
     "metadata": {
      "needs_background": "light"
     },
     "output_type": "display_data"
    }
   ],
   "source": [
    "bins=np.arange(-1000,1000,50)# width 조절\n",
    "plt.hist(his,bins)\n",
    "plt.ylim(0,25)"
   ]
  },
  {
   "cell_type": "code",
   "execution_count": 34,
   "metadata": {},
   "outputs": [
    {
     "data": {
      "image/png": "[encoded data removed]",
      "text/plain": [
       "<Figure size 432x432 with 2 Axes>"
      ]
     },
     "metadata": {
      "needs_background": "light"
     },
     "output_type": "display_data"
    }
   ],
   "source": [
    "x=[0,2500];y=[0,2500]\n",
    "plt.figure(figsize=(6,6))\n",
    "plt.plot(x,y,c='black')\n",
    "plt.scatter(10**label3,10**pred3,color='orange',marker='^',label='secondary')\n",
    "plt.scatter(10**label2,10**pred2,color='red',marker='s',label='primary test')\n",
    "plt.scatter(10**label,10**pred,color='blue',marker='o',label='train')\n",
    "plt.title('secondary')\n",
    "plt.xlabel('Observed cycle life')\n",
    "plt.ylabel('Predicted cycle life')\n",
    "plt.axis([0,2500,0,2500])\n",
    "plt.legend()\n",
    "ax_sub=plt.axes([0.6,0.2,0.25,0.2])\n",
    "plt.ylim(0,25)\n",
    "ax_sub.hist(his,bins,color='black')\n",
    "plt.show()"
   ]
  },
  {
   "cell_type": "code",
   "execution_count": null,
   "metadata": {},
   "outputs": [],
   "source": []
  }
 ],
 "metadata": {
  "kernelspec": {
   "display_name": "Python 3",
   "language": "python",
   "name": "python3"
  },
  "language_info": {
   "codemirror_mode": {
    "name": "ipython",
    "version": 3
   },
   "file_extension": ".py",
   "mimetype": "text/x-python",
   "name": "python",
   "nbconvert_exporter": "python",
   "pygments_lexer": "ipython3",
   "version": "3.7.6"
  }
 },
 "nbformat": 4,
 "nbformat_minor": 4
}
