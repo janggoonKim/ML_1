{
 "cells": [
  {
   "cell_type": "code",
   "execution_count": 1,
   "metadata": {},
   "outputs": [],
   "source": [
    "import h5py\n",
    "import scipy.io\n",
    "import matplotlib.pyplot as plt\n",
    "import numpy as np\n",
    "import pickle\n",
    "import pandas as pd\n",
    "import matplotlib.cm as cm\n",
    "from scipy.signal import savgol_filter\n",
    "from scipy import stats\n",
    "\n",
    "batch1 = pickle.load(open(r'D:\\논문 준비\\코드 복사\\코드 복사\\코드 복사\\batch1.pkl', 'rb'))\n",
    "#remove batteries that do not reach 80% capacity\n",
    "del batch1['b1c8']\n",
    "del batch1['b1c10']\n",
    "del batch1['b1c12']\n",
    "del batch1['b1c13']\n",
    "del batch1['b1c22']\n",
    "\n",
    "numBat1 = len(batch1.keys())\n",
    "\n",
    "batch2 = pickle.load(open(r'D:\\논문 준비\\코드 복사\\코드 복사\\코드 복사\\batch2.pkl','rb'))\n",
    "# There are four cells from batch1 that carried into batch2, we'll remove the data from batch2\n",
    "# and put it with the correct cell from batch1\n",
    "batch2_keys = ['b2c7', 'b2c8', 'b2c9', 'b2c15', 'b2c16']\n",
    "batch1_keys = ['b1c0', 'b1c1', 'b1c2', 'b1c3', 'b1c4']\n",
    "add_len = [662, 981, 1060, 208, 482];\n",
    "\n",
    "for i, bk in enumerate(batch1_keys):\n",
    "    batch1[bk]['cycle_life'] = batch1[bk]['cycle_life'] + add_len[i]\n",
    "    for j in batch1[bk]['summary'].keys():\n",
    "        if j == 'cycle':\n",
    "            batch1[bk]['summary'][j] = np.hstack((batch1[bk]['summary'][j], batch2[batch2_keys[i]]['summary'][j] + len(batch1[bk]['summary'][j])))\n",
    "        else:\n",
    "            batch1[bk]['summary'][j] = np.hstack((batch1[bk]['summary'][j], batch2[batch2_keys[i]]['summary'][j]))\n",
    "    last_cycle = len(batch1[bk]['cycles'].keys())\n",
    "    for j, jk in enumerate(batch2[batch2_keys[i]]['cycles'].keys()):\n",
    "        batch1[bk]['cycles'][str(last_cycle + j)] = batch2[batch2_keys[i]]['cycles'][jk]\n",
    "\n",
    "del batch2['b2c7']\n",
    "del batch2['b2c8']\n",
    "del batch2['b2c9']\n",
    "del batch2['b2c15']\n",
    "del batch2['b2c16']\n",
    "\n",
    "numBat2 = len(batch2.keys())\n",
    "\n",
    "batch3 = pickle.load(open(r'D:\\논문 준비\\코드 복사\\코드 복사\\코드 복사\\batch3.pkl','rb'))\n",
    "# remove noisy channels from batch3\n",
    "del batch3['b3c37']\n",
    "del batch3['b3c2']\n",
    "del batch3['b3c23']\n",
    "del batch3['b3c32']\n",
    "del batch3['b3c38']\n",
    "del batch3['b3c39']\n",
    "\n",
    "numBat3 = len(batch3.keys())\n",
    "numBat = numBat1 + numBat2 + numBat3\n",
    "bat_dict = {**batch1, **batch2, **batch3}"
   ]
  },
  {
   "cell_type": "code",
   "execution_count": 17,
   "metadata": {},
   "outputs": [],
   "source": [
    "sort=[]\n",
    "for i in bat_dict.keys():\n",
    "    a=len(bat_dict[i]['summary']['cycle'])+1\n",
    "    sort.append([a,i])\n",
    "    \n",
    "# 색 조절.\n",
    "sort=sorted(sort)\n",
    "sort=np.array(sort)# cycle 순으로 정리 \n",
    "sortcycle=sort[:,0].astype(float)\n",
    "color=sortcycle/np.max(sortcycle)\n",
    "chargecolor=cm.coolwarm(color)"
   ]
  },
  {
   "cell_type": "code",
   "execution_count": 18,
   "metadata": {},
   "outputs": [
    {
     "name": "stdout",
     "output_type": "stream",
     "text": [
      "41\n",
      "43\n",
      "40\n"
     ]
    }
   ],
   "source": [
    "print(len(batch1.keys()))\n",
    "print(len(batch2.keys()))\n",
    "print(len(batch3.keys()))"
   ]
  },
  {
   "cell_type": "code",
   "execution_count": 19,
   "metadata": {
    "scrolled": true
   },
   "outputs": [
    {
     "name": "stdout",
     "output_type": "stream",
     "text": [
      "[-5.01486104 -5.01395962 -4.73699974 -4.44261336 -4.64774366 -4.17887796\n",
      " -3.7688779  -3.81348608 -4.05938368 -4.14689653 -4.04606984 -4.0179491\n",
      " -4.09941368 -3.97015945 -3.65008055 -3.61990683 -3.36723741 -3.35033805\n",
      " -4.04079364 -3.93866252 -4.02788882 -3.79522    -3.8537032  -3.84471181\n",
      " -3.8382817  -3.74469922 -3.77773262 -3.6464635  -3.6670576  -3.84861616\n",
      " -3.77260582 -3.66950134 -3.67393889 -3.43304817 -3.50453372 -4.05521271\n",
      " -4.07151397 -3.66585579 -3.66777907 -3.4207     -3.42529224] [3.26764098 3.33445375 3.34966598 3.15654915 3.23274206 3.03100428\n",
      " 2.80345712 2.93951925 3.02284061 2.89652622 2.94448267 2.85672889\n",
      " 2.93550727 2.93298082 2.83947805 2.89652622 2.72754126 2.74741181\n",
      " 3.00603795 3.00732095 2.93145787 2.93951925 2.92531209 2.93449845\n",
      " 2.96236934 2.85064624 2.94250411 2.86391738 2.87909588 2.87040391\n",
      " 2.84695533 2.84757266 2.81157501 2.79028516 2.79588002 2.98497713\n",
      " 3.02160272 2.84633711 2.81358099 2.78958071 2.77742682]\n"
     ]
    },
    {
     "data": {
      "text/plain": [
       "<matplotlib.collections.PathCollection at 0x27b1e8fbe88>"
      ]
     },
     "execution_count": 19,
     "metadata": {},
     "output_type": "execute_result"
    },
    {
     "data": {
      "image/png": "[encoded data removed]",
      "text/plain": [
       "<Figure size 432x288 with 1 Axes>"
      ]
     },
     "metadata": {
      "needs_background": "light"
     },
     "output_type": "display_data"
    }
   ],
   "source": [
    "from sklearn.linear_model import ElasticNetCV\n",
    "regr=ElasticNetCV(cv=4)\n",
    "Cycle=[]\n",
    "VAR=[]\n",
    "for i,j in enumerate(batch1.keys()):\n",
    "    Qdlin10,Qdlin100=bat_dict[j]['cycles']['9']['Qdlin'],bat_dict[j]['cycles']['99']['Qdlin']\n",
    "    diff=Qdlin100-Qdlin10\n",
    "    var,cycle=np.var(diff),len(bat_dict[j]['summary']['cycle'])+1\n",
    "    VAR.append(var)\n",
    "    Cycle.append(cycle)\n",
    "x_val=np.array(VAR)\n",
    "y_val=np.array(Cycle)\n",
    "X_val=np.log10(x_val)\n",
    "Y_val=np.log10(y_val)\n",
    "print(X_val,Y_val)\n",
    "plt.scatter(X_val,Y_val)"
   ]
  },
  {
   "cell_type": "code",
   "execution_count": 20,
   "metadata": {},
   "outputs": [
    {
     "data": {
      "text/plain": [
       "<matplotlib.legend.Legend at 0x27b1e95eb08>"
      ]
     },
     "execution_count": 20,
     "metadata": {},
     "output_type": "execute_result"
    },
    {
     "data": {
      "image/png": "[encoded data removed]",
      "text/plain": [
       "<Figure size 432x288 with 1 Axes>"
      ]
     },
     "metadata": {
      "needs_background": "light"
     },
     "output_type": "display_data"
    }
   ],
   "source": [
    "X=X_val.reshape(-1,1)\n",
    "X.shape, Y_val.shape\n",
    "regr.fit(X,Y_val)\n",
    "regr.alpha_\n",
    "regr.coef_\n",
    "regr.intercept_\n",
    "y_pred1=regr.predict(X)\n",
    "plt.scatter(X,10**Y_val,color='black',label='original')\n",
    "plt.scatter(X,10**y_pred1,color='red',label='predict')\n",
    "plt.title('train')\n",
    "plt.legend()"
   ]
  },
  {
   "cell_type": "code",
   "execution_count": 21,
   "metadata": {},
   "outputs": [
    {
     "name": "stdout",
     "output_type": "stream",
     "text": [
      "train Mean Percent Error, RMSE\n"
     ]
    },
    {
     "data": {
      "text/plain": [
       "(3.739904358134776, 128.9470433403474)"
      ]
     },
     "execution_count": 21,
     "metadata": {},
     "output_type": "execute_result"
    }
   ],
   "source": [
    "from sklearn.metrics import mean_squared_error\n",
    "from sklearn.metrics import mean_absolute_error\n",
    "rmse1=np.sqrt(mean_squared_error(10**Y_val,10**y_pred1))\n",
    "print('train Mean Percent Error, RMSE')\n",
    "mean_absolute_error(Y_val,y_pred1)*100,rmse1"
   ]
  },
  {
   "cell_type": "code",
   "execution_count": 22,
   "metadata": {},
   "outputs": [
    {
     "data": {
      "text/plain": [
       "<matplotlib.legend.Legend at 0x27b21cd4908>"
      ]
     },
     "execution_count": 22,
     "metadata": {},
     "output_type": "execute_result"
    },
    {
     "data": {
      "image/png": "[encoded data removed]",
      "text/plain": [
       "<Figure size 432x288 with 1 Axes>"
      ]
     },
     "metadata": {
      "needs_background": "light"
     },
     "output_type": "display_data"
    }
   ],
   "source": [
    "Cycle2=[]\n",
    "VAR2=[]\n",
    "for i,j in enumerate(batch2.keys()):\n",
    "    if j=='b2c1':\n",
    "        continue\n",
    "    Qdlin10,Qdlin100=bat_dict[j]['cycles']['9']['Qdlin'],bat_dict[j]['cycles']['99']['Qdlin']\n",
    "    diff=Qdlin100-Qdlin10\n",
    "    var,cycle=np.var(diff),len(bat_dict[j]['summary']['cycle'])+1\n",
    "    VAR2.append(var)\n",
    "    Cycle2.append(cycle)\n",
    "x_val2=np.array(VAR2)\n",
    "y_val2=np.array(Cycle2)\n",
    "X_val2=np.log10(x_val2)\n",
    "Y_val2=np.log10(y_val2)\n",
    "X2=X_val2.reshape(-1,1)\n",
    "\n",
    "X2.shape, Y_val2.shape\n",
    "y_pred=regr.predict(X2)\n",
    "plt.scatter(X2,10**y_pred,color='r',label='predict')\n",
    "plt.scatter(X_val2,10**Y_val2,color='black',s=10,label='original')\n",
    "plt.title('primary')\n",
    "plt.legend()"
   ]
  },
  {
   "cell_type": "code",
   "execution_count": 23,
   "metadata": {},
   "outputs": [
    {
     "name": "stdout",
     "output_type": "stream",
     "text": [
      "primary Mean Percent Error, RMSE\n"
     ]
    },
    {
     "data": {
      "text/plain": [
       "(8.701777304915481, 128.09539224879768)"
      ]
     },
     "execution_count": 23,
     "metadata": {},
     "output_type": "execute_result"
    }
   ],
   "source": [
    "print('primary Mean Percent Error, RMSE')\n",
    "rmse=np.sqrt(mean_squared_error(10**Y_val2,10**y_pred))\n",
    "mean_absolute_error(Y_val2,y_pred)*100,rmse"
   ]
  },
  {
   "cell_type": "code",
   "execution_count": 24,
   "metadata": {},
   "outputs": [
    {
     "data": {
      "text/plain": [
       "<matplotlib.legend.Legend at 0x27b24087e48>"
      ]
     },
     "execution_count": 24,
     "metadata": {},
     "output_type": "execute_result"
    },
    {
     "data": {
      "image/png": "[encoded data removed]",
      "text/plain": [
       "<Figure size 432x288 with 1 Axes>"
      ]
     },
     "metadata": {
      "needs_background": "light"
     },
     "output_type": "display_data"
    }
   ],
   "source": [
    "# fig2 Q100_Q10 는 4개의 cell을 제거 했지만 여기는 그대로 계산.\n",
    "Cycle3=[]\n",
    "VAR3=[]\n",
    "for i,j in enumerate(batch3.keys()):\n",
    "    Qdlin10,Qdlin100=bat_dict[j]['cycles']['9']['Qdlin'],bat_dict[j]['cycles']['99']['Qdlin']\n",
    "    diff=Qdlin100-Qdlin10\n",
    "    var,cycle=np.var(diff),len(bat_dict[j]['summary']['cycle'])+1\n",
    "    VAR3.append(var)\n",
    "    Cycle3.append(cycle)\n",
    "x_val3=np.array(VAR3)\n",
    "y_val3=np.array(Cycle3)\n",
    "X_val3=np.log10(x_val3)\n",
    "Y_val3=np.log10(y_val3)\n",
    "X3=X_val3.reshape(-1,1)\n",
    "\n",
    "X3.shape, Y_val3.shape\n",
    "y_pred3=regr.predict(X3)\n",
    "plt.scatter(X3,10**y_pred3,color='r',label='predict')\n",
    "plt.scatter(X_val3,10**Y_val3,color='black',s=10,label='original')\n",
    "plt.title('secondary')\n",
    "plt.legend()"
   ]
  },
  {
   "cell_type": "code",
   "execution_count": 25,
   "metadata": {},
   "outputs": [
    {
     "name": "stdout",
     "output_type": "stream",
     "text": [
      "secondary Mean Percent Error, RMSE\n"
     ]
    },
    {
     "data": {
      "text/plain": [
       "(5.320859879268971, 175.2794155755679)"
      ]
     },
     "execution_count": 25,
     "metadata": {},
     "output_type": "execute_result"
    }
   ],
   "source": [
    "print('secondary Mean Percent Error, RMSE')\n",
    "rmse3=np.sqrt(mean_squared_error(10**Y_val3,10**y_pred3))\n",
    "mean_absolute_error(Y_val3,y_pred3)*100,rmse3"
   ]
  },
  {
   "cell_type": "code",
   "execution_count": 26,
   "metadata": {},
   "outputs": [
    {
     "data": {
      "text/plain": [
       "<matplotlib.legend.Legend at 0x27b24101c48>"
      ]
     },
     "execution_count": 26,
     "metadata": {},
     "output_type": "execute_result"
    },
    {
     "data": {
      "image/png": "[encoded data removed]",
      "text/plain": [
       "<Figure size 432x432 with 1 Axes>"
      ]
     },
     "metadata": {
      "needs_background": "light"
     },
     "output_type": "display_data"
    }
   ],
   "source": [
    "x=[0,2500];y=[0,2500]\n",
    "plt.figure(figsize=(6,6))\n",
    "plt.plot(x,y,c='black')\n",
    "plt.scatter(10**Y_val,10**y_pred1,color='b',marker='o',label='train')\n",
    "plt.scatter(10**Y_val2,10**y_pred,color='r',marker='s',label='primary test')\n",
    "plt.scatter(10**Y_val3,10**y_pred3,color='m',marker='^',label='primary test')\n",
    "plt.axis([0,2500,0,2500])\n",
    "plt.legend()"
   ]
  },
  {
   "cell_type": "code",
   "execution_count": null,
   "metadata": {},
   "outputs": [],
   "source": []
  }
 ],
 "metadata": {
  "kernelspec": {
   "display_name": "Python 3",
   "language": "python",
   "name": "python3"
  },
  "language_info": {
   "codemirror_mode": {
    "name": "ipython",
    "version": 3
   },
   "file_extension": ".py",
   "mimetype": "text/x-python",
   "name": "python",
   "nbconvert_exporter": "python",
   "pygments_lexer": "ipython3",
   "version": "3.7.6"
  }
 },
 "nbformat": 4,
 "nbformat_minor": 4
}
