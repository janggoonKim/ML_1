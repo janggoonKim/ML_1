{
 "cells": [
  {
   "cell_type": "code",
   "execution_count": 1,
   "metadata": {},
   "outputs": [],
   "source": [
    "import h5py\n",
    "import scipy.io\n",
    "import matplotlib.pyplot as plt\n",
    "import numpy as np\n",
    "import pickle\n",
    "import pandas as pd\n",
    "import matplotlib.cm as cm\n",
    "from scipy.signal import savgol_filter\n",
    "from scipy import stats\n",
    "\n",
    "batch1 = pickle.load(open(r'D:\\논문 준비\\코드 복사\\코드 복사\\코드 복사\\batch1.pkl', 'rb'))\n",
    "#remove batteries that do not reach 80% capacity\n",
    "del batch1['b1c8']\n",
    "del batch1['b1c10']\n",
    "del batch1['b1c12']\n",
    "del batch1['b1c13']\n",
    "del batch1['b1c22']\n",
    "\n",
    "numBat1 = len(batch1.keys())\n",
    "\n",
    "batch2 = pickle.load(open(r'D:\\논문 준비\\코드 복사\\코드 복사\\코드 복사\\batch2.pkl','rb'))\n",
    "# There are four cells from batch1 that carried into batch2, we'll remove the data from batch2\n",
    "# and put it with the correct cell from batch1\n",
    "batch2_keys = ['b2c7', 'b2c8', 'b2c9', 'b2c15', 'b2c16']\n",
    "batch1_keys = ['b1c0', 'b1c1', 'b1c2', 'b1c3', 'b1c4']\n",
    "add_len = [662, 981, 1060, 208, 482];\n",
    "\n",
    "for i, bk in enumerate(batch1_keys):\n",
    "    batch1[bk]['cycle_life'] = batch1[bk]['cycle_life'] + add_len[i]\n",
    "    for j in batch1[bk]['summary'].keys():\n",
    "        if j == 'cycle':\n",
    "            batch1[bk]['summary'][j] = np.hstack((batch1[bk]['summary'][j], batch2[batch2_keys[i]]['summary'][j] + len(batch1[bk]['summary'][j])))\n",
    "        else:\n",
    "            batch1[bk]['summary'][j] = np.hstack((batch1[bk]['summary'][j], batch2[batch2_keys[i]]['summary'][j]))\n",
    "    last_cycle = len(batch1[bk]['cycles'].keys())\n",
    "    for j, jk in enumerate(batch2[batch2_keys[i]]['cycles'].keys()):\n",
    "        batch1[bk]['cycles'][str(last_cycle + j)] = batch2[batch2_keys[i]]['cycles'][jk]\n",
    "\n",
    "del batch2['b2c7']\n",
    "del batch2['b2c8']\n",
    "del batch2['b2c9']\n",
    "del batch2['b2c15']\n",
    "del batch2['b2c16']\n",
    "\n",
    "numBat2 = len(batch2.keys())\n",
    "\n",
    "batch3 = pickle.load(open(r'D:\\논문 준비\\코드 복사\\코드 복사\\코드 복사\\batch3.pkl','rb'))\n",
    "# remove noisy channels from batch3\n",
    "del batch3['b3c37']\n",
    "del batch3['b3c2']\n",
    "del batch3['b3c23']\n",
    "del batch3['b3c32']\n",
    "del batch3['b3c38']\n",
    "del batch3['b3c39']\n",
    "\n",
    "numBat3 = len(batch3.keys())\n",
    "numBat = numBat1 + numBat2 + numBat3\n",
    "bat_dict = {**batch1, **batch2, **batch3}"
   ]
  },
  {
   "cell_type": "code",
   "execution_count": 2,
   "metadata": {},
   "outputs": [
    {
     "data": {
      "text/plain": [
       "dict_keys(['b1c0', 'b1c1', 'b1c2', 'b1c3', 'b1c4', 'b1c5', 'b1c6', 'b1c7', 'b1c9', 'b1c11', 'b1c14', 'b1c15', 'b1c16', 'b1c17', 'b1c18', 'b1c19', 'b1c20', 'b1c21', 'b1c23', 'b1c24', 'b1c25', 'b1c26', 'b1c27', 'b1c28', 'b1c29', 'b1c30', 'b1c31', 'b1c32', 'b1c33', 'b1c34', 'b1c35', 'b1c36', 'b1c37', 'b1c38', 'b1c39', 'b1c40', 'b1c41', 'b1c42', 'b1c43', 'b1c44', 'b1c45', 'b2c0', 'b2c1', 'b2c2', 'b2c3', 'b2c4', 'b2c5', 'b2c6', 'b2c10', 'b2c11', 'b2c12', 'b2c13', 'b2c14', 'b2c17', 'b2c18', 'b2c19', 'b2c20', 'b2c21', 'b2c22', 'b2c23', 'b2c24', 'b2c25', 'b2c26', 'b2c27', 'b2c28', 'b2c29', 'b2c30', 'b2c31', 'b2c32', 'b2c33', 'b2c34', 'b2c35', 'b2c36', 'b2c37', 'b2c38', 'b2c39', 'b2c40', 'b2c41', 'b2c42', 'b2c43', 'b2c44', 'b2c45', 'b2c46', 'b2c47', 'b3c0', 'b3c1', 'b3c3', 'b3c4', 'b3c5', 'b3c6', 'b3c7', 'b3c8', 'b3c9', 'b3c10', 'b3c11', 'b3c12', 'b3c13', 'b3c14', 'b3c15', 'b3c16', 'b3c17', 'b3c18', 'b3c19', 'b3c20', 'b3c21', 'b3c22', 'b3c24', 'b3c25', 'b3c26', 'b3c27', 'b3c28', 'b3c29', 'b3c30', 'b3c31', 'b3c33', 'b3c34', 'b3c35', 'b3c36', 'b3c40', 'b3c41', 'b3c42', 'b3c43', 'b3c44', 'b3c45'])"
      ]
     },
     "execution_count": 2,
     "metadata": {},
     "output_type": "execute_result"
    }
   ],
   "source": [
    "bat_dict.keys()"
   ]
  },
  {
   "cell_type": "code",
   "execution_count": 3,
   "metadata": {},
   "outputs": [
    {
     "data": {
      "text/plain": [
       "dict_keys(['cycle_life', 'charge_policy', 'summary', 'cycles'])"
      ]
     },
     "execution_count": 3,
     "metadata": {},
     "output_type": "execute_result"
    }
   ],
   "source": [
    "bat_dict['b1c0'].keys()"
   ]
  },
  {
   "cell_type": "code",
   "execution_count": 6,
   "metadata": {},
   "outputs": [
    {
     "data": {
      "text/plain": [
       "'3.6C(80%)-3.6C'"
      ]
     },
     "execution_count": 6,
     "metadata": {},
     "output_type": "execute_result"
    }
   ],
   "source": [
    "bat_dict['b1c0']['charge_policy']"
   ]
  },
  {
   "cell_type": "markdown",
   "metadata": {},
   "source": [
    "# policy 를 통해서 비대칭성을 확인할 수 있다. (Discharge 4C)"
   ]
  },
  {
   "cell_type": "code",
   "execution_count": 7,
   "metadata": {},
   "outputs": [],
   "source": [
    "import re"
   ]
  },
  {
   "cell_type": "code",
   "execution_count": 8,
   "metadata": {},
   "outputs": [
    {
     "name": "stdout",
     "output_type": "stream",
     "text": [
      "368036\n"
     ]
    }
   ],
   "source": [
    "policys0=bat_dict['b1c0']['charge_policy']\n",
    "policy0=re.sub(r'[^0-9]', '', policys0)\n",
    "print(policy0)"
   ]
  },
  {
   "cell_type": "markdown",
   "metadata": {},
   "source": [
    "# 여기서 4C(80%)-4C, 3.6(80%)-3.6C, 4.8C(80%)-4.8C 를 비교( 같은 날짜로)"
   ]
  },
  {
   "cell_type": "code",
   "execution_count": 29,
   "metadata": {},
   "outputs": [
    {
     "name": "stdout",
     "output_type": "stream",
     "text": [
      "b1c0\n",
      "b1c1\n",
      "b1c2\n",
      "b1c3\n",
      "b1c4\n",
      "b1c6\n",
      "b1c7\n",
      "b2c24\n",
      "b2c25\n",
      "b2c26\n"
     ]
    }
   ],
   "source": [
    "policy3_6=[]\n",
    "policy4=[]\n",
    "policy4_8=[]\n",
    "count=0\n",
    "for i in bat_dict.keys():\n",
    "    policys0=bat_dict[i]['charge_policy']\n",
    "    if policys0[3]=='C' and policys0[-3]=='.': # 0.0C(%)-0.0C\n",
    "        if policys0[:3]==policys0[-4:-1]=='3.6': #같은 C-rate 3.6\n",
    "            print(i)\n",
    "            policy3_6.append(i)\n",
    "for i in bat_dict.keys():\n",
    "    policys0=bat_dict[i]['charge_policy']\n",
    "    if policys0[1]=='C' and policys0[-3]=='-': # 0C(%)-0C\n",
    "        if policys0[0]==policys0[-2]=='4': #같은 C-rate 4\n",
    "            print(i)\n",
    "            policy4.append(i)\n",
    "for i in bat_dict.keys():\n",
    "    policys0=bat_dict[i]['charge_policy']\n",
    "    if policys0[3]=='C' and policys0[-3]=='.': # 0.0C(%)-0.0C\n",
    "        if policys0[:3]==policys0[-4:-1]=='4.8': #같은 C-rate 4.8\n",
    "            print(i)\n",
    "            policy4_8.append(i)"
   ]
  },
  {
   "cell_type": "code",
   "execution_count": 31,
   "metadata": {},
   "outputs": [
    {
     "data": {
      "text/plain": [
       "(['b1c0', 'b1c1', 'b1c2'],\n",
       " ['b1c3', 'b1c4'],\n",
       " ['b1c6', 'b1c7', 'b2c24', 'b2c25', 'b2c26'])"
      ]
     },
     "execution_count": 31,
     "metadata": {},
     "output_type": "execute_result"
    }
   ],
   "source": [
    "policy3_6 , policy4, policy4_8# 4.8은 b1c6, b1c7 사용"
   ]
  },
  {
   "cell_type": "code",
   "execution_count": 38,
   "metadata": {},
   "outputs": [
    {
     "name": "stdout",
     "output_type": "stream",
     "text": [
      "3.6C : [1852.]\n",
      "3.6C : [2160.]\n",
      "3.6C : [2237.]\n",
      "4C : [1434.]\n",
      "4C : [1709.]\n",
      "4.8C : [636.]\n",
      "4.8C : [870.]\n"
     ]
    }
   ],
   "source": [
    "#3.6\n",
    "for i in policy3_6:\n",
    "    a= bat_dict[i]['cycle_life'][0]\n",
    "    print(f'3.6C : {a}')\n",
    "#4\n",
    "for i in policy4:\n",
    "    a= bat_dict[i]['cycle_life'][0]\n",
    "    print(f'4C : {a}')\n",
    "#4.8\n",
    "for i in policy4_8[:2]:\n",
    "    a= bat_dict[i]['cycle_life'][0]\n",
    "    print(f'4.8C : {a}')"
   ]
  },
  {
   "cell_type": "code",
   "execution_count": null,
   "metadata": {},
   "outputs": [],
   "source": [
    "# 제공된 데이터는 3.6C~ 4.8C Charge C-rate로 급속충전에 해당. 방전은 4C-rate 급속방전에 해당되어\n",
    "# 비교할 수 없음. 이 데이터를 바탕으로는 급속 충.방전 시 높은 C-rate 값을 갖는다면 짧은 Cycle life 를 가짐."
   ]
  },
  {
   "cell_type": "code",
   "execution_count": 40,
   "metadata": {},
   "outputs": [
    {
     "name": "stdout",
     "output_type": "stream",
     "text": [
      "43\n",
      "41\n"
     ]
    },
    {
     "data": {
      "text/plain": [
       "(None, None)"
      ]
     },
     "execution_count": 40,
     "metadata": {},
     "output_type": "execute_result"
    }
   ],
   "source": [
    "print(numBat2),print(numBat1)"
   ]
  },
  {
   "cell_type": "code",
   "execution_count": null,
   "metadata": {},
   "outputs": [],
   "source": []
  }
 ],
 "metadata": {
  "kernelspec": {
   "display_name": "Python 3",
   "language": "python",
   "name": "python3"
  },
  "language_info": {
   "codemirror_mode": {
    "name": "ipython",
    "version": 3
   },
   "file_extension": ".py",
   "mimetype": "text/x-python",
   "name": "python",
   "nbconvert_exporter": "python",
   "pygments_lexer": "ipython3",
   "version": "3.7.6"
  }
 },
 "nbformat": 4,
 "nbformat_minor": 4
}
