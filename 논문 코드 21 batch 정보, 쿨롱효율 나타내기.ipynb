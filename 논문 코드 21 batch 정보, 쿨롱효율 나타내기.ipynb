{
 "cells": [
  {
   "cell_type": "markdown",
   "metadata": {},
   "source": [
    "$$\n",
    "\\text{Ridge Regression}(w) = \\text{MSE}(w) + \\lambda \\sum_{i=1}^{n}{w_{i}^{2}}\n",
    "$$"
   ]
  },
  {
   "cell_type": "markdown",
   "metadata": {},
   "source": [
    "$$\n",
    "\\text{Lasso Regression}(w) = \\text{MSE}(w) + \\lambda \\sum_{i=1}^{n}{\\left| w_i \\right|}\n",
    "$$"
   ]
  },
  {
   "cell_type": "markdown",
   "metadata": {},
   "source": [
    "$$\n",
    "Elastic Net(w) = \\text{MSE}(w) + \\alpha \\sum_{i=1}^{n}{w_i}^2 + \\left( 1 - \\alpha \\right) \\sum_{i=1}^{n}{\\left| w_i \\right|}, \\quad \\alpha = \\frac{\\lambda_2}{\\lambda_2 + \\lambda_1}\n",
    "$$"
   ]
  },
  {
   "cell_type": "markdown",
   "metadata": {},
   "source": [
    "$$\n",
    "RMSE = \\sqrt{\\frac{1}{n}\\sum_{i=1}^{n}{(y_i-\\hat{y_i})^2}}\n",
    "$$"
   ]
  },
  {
   "cell_type": "markdown",
   "metadata": {},
   "source": [
    "$$\n",
    "MPE = \\frac{1}{n}\\sum_{i=1}^{n}{(\\frac{y_i-\\hat{y_i}}{y_i})}\\times{100}\n",
    "$$"
   ]
  },
  {
   "cell_type": "code",
   "execution_count": null,
   "metadata": {},
   "outputs": [],
   "source": []
  }
 ],
 "metadata": {
  "kernelspec": {
   "display_name": "Python 3",
   "language": "python",
   "name": "python3"
  },
  "language_info": {
   "codemirror_mode": {
    "name": "ipython",
    "version": 3
   },
   "file_extension": ".py",
   "mimetype": "text/x-python",
   "name": "python",
   "nbconvert_exporter": "python",
   "pygments_lexer": "ipython3",
   "version": "3.7.6"
  }
 },
 "nbformat": 4,
 "nbformat_minor": 4
}
